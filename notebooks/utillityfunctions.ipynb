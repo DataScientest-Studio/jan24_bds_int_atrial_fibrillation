{
 "cells": [
  {
   "cell_type": "markdown",
   "id": "368187e9",
   "metadata": {
    "papermill": {
     "duration": 0.004614,
     "end_time": "2024-03-27T21:19:30.612656",
     "exception": false,
     "start_time": "2024-03-27T21:19:30.608042",
     "status": "completed"
    },
    "tags": []
   },
   "source": [
    "# APA Styling Functions"
   ]
  },
  {
   "cell_type": "code",
   "execution_count": 1,
   "id": "12b6e5f5",
   "metadata": {
    "execution": {
     "iopub.execute_input": "2024-03-27T21:19:30.622268Z",
     "iopub.status.busy": "2024-03-27T21:19:30.621536Z",
     "iopub.status.idle": "2024-03-27T21:19:30.646632Z",
     "shell.execute_reply": "2024-03-27T21:19:30.645455Z"
    },
    "papermill": {
     "duration": 0.032968,
     "end_time": "2024-03-27T21:19:30.649311",
     "exception": false,
     "start_time": "2024-03-27T21:19:30.616343",
     "status": "completed"
    },
    "tags": []
   },
   "outputs": [],
   "source": [
    "def set_styles():\n",
    "    # Set APA style parameters for matplotlib\n",
    "    plt.style.use('/kaggle/input/apa-mplstyle/apa.mplstyle')  # Select the style sheet\n",
    "    rc('mathtext', **{'default': 'regular'})\n",
    "    %matplotlib inline\n",
    "    %config InlineBackend.figure_format = 'retina'\n",
    "    \n",
    "    # Define seaborn style\n",
    "    def set_seaborn_style():\n",
    "        # Define grayscale color cycle\n",
    "        grayscale_color_cycle = cycler('color', ['black', '0.8', '0.6', '0.4', '0.2', '0.1', '0.7', '0.3'])\n",
    "\n",
    "        # Define line style cycle\n",
    "        linestyle_cycle = cycler('linestyle', ['-', '--', '-.', ':', '-', '--', '-.', ':'])\n",
    "\n",
    "        # Define line width cycle\n",
    "        linewidth_cycle = cycler('linewidth', [1.2, 1.2, 1, 0.7, 0.5, 1, 0.8, 0.6])\n",
    "\n",
    "        # Define hatch pattern cycle\n",
    "        hatch_cycle = cycler('hatch', ['/', '\\\\', '|', '-', '+', 'x', 'o', 'O'])\n",
    "\n",
    "        # Combine all cycles\n",
    "        combined_cycle = grayscale_color_cycle + linestyle_cycle + linewidth_cycle + hatch_cycle\n",
    "\n",
    "        # Set the style for seaborn plots\n",
    "        sns.set_style(\"white\", rc={\"font.family\": \"sans-serif\", \n",
    "                                       \"axes.facecolor\": \"white\", \n",
    "                                       \"axes.edgecolor\": \"black\", \n",
    "                                       \"axes.labelcolor\": \"black\",\n",
    "                                       \"xtick.color\": \"black\",\n",
    "                                       \"ytick.color\": \"black\",\n",
    "                                       \"axes.labelweight\": \"bold\",\n",
    "                                       \"axes.titleweight\": \"bold\",\n",
    "                                       \"axes.prop_cycle\": combined_cycle})\n",
    "\n",
    "    # Set the global style for sns\n",
    "    set_seaborn_style()"
   ]
  },
  {
   "cell_type": "code",
   "execution_count": 2,
   "id": "5a869982",
   "metadata": {
    "execution": {
     "iopub.execute_input": "2024-03-27T21:19:30.658682Z",
     "iopub.status.busy": "2024-03-27T21:19:30.658318Z",
     "iopub.status.idle": "2024-03-27T21:19:30.678534Z",
     "shell.execute_reply": "2024-03-27T21:19:30.677320Z"
    },
    "papermill": {
     "duration": 0.027706,
     "end_time": "2024-03-27T21:19:30.680674",
     "exception": false,
     "start_time": "2024-03-27T21:19:30.652968",
     "status": "completed"
    },
    "tags": []
   },
   "outputs": [],
   "source": [
    "def create_countplot(df, column, title):\n",
    "    # Plot the countplot\n",
    "    plt.figure(figsize=(10, 6))  # Adjust figure size as needed\n",
    "    ax = sns.countplot(data=df, x=column)\n",
    "\n",
    "    # Define grayscale color cycle\n",
    "    grayscale_color_cycle = ['black', '0.8', '0.6', '0.4', '0.2', '0.1', '0.7', '0.3']\n",
    "\n",
    "    # Define hatch pattern cycle\n",
    "    hatch_patterns = ['/', '\\\\', '|', '-', '+', 'x', 'o', 'O']\n",
    "\n",
    "    # Iterate over the bars in the countplot and apply unique combinations of properties\n",
    "    for i, bar in enumerate(ax.patches):\n",
    "        color = grayscale_color_cycle[i % len(grayscale_color_cycle)]\n",
    "        hatch = hatch_patterns[i % len(hatch_patterns)]\n",
    "        bar.set_facecolor(color)  # Set face color to grayscale color\n",
    "        bar.set_linestyle('-')  # Set linestyle\n",
    "        bar.set_linewidth(1.2)  # Set linewidth\n",
    "        bar.set_hatch(hatch)  # Cycle through hatch patterns\n",
    "\n",
    "    # Show plot\n",
    "    plt.title(title)\n",
    "    plt.show()\n",
    "\n",
    "def create_lineplot(df, x, y, title):\n",
    "    # Plot the lineplot\n",
    "    plt.figure(figsize=(10, 6))  # Adjust figure size as needed\n",
    "    sns.lineplot(data=df, x=x, y=y)\n",
    "\n",
    "    # Show plot\n",
    "    plt.title(title)\n",
    "    plt.show()\n",
    "    \n",
    "def create_scatterplot(df, x, y, title):\n",
    "    plt.figure(figsize=(8, 6))\n",
    "    sns.scatterplot(data=df, x=x, y=y, color='black', edgecolor='none', s=50)  # Adjust marker size as needed\n",
    "    plt.title(title)\n",
    "    plt.xlabel(x)\n",
    "    plt.ylabel(y)\n",
    "    plt.show()\n",
    "\n",
    "def create_boxplot(df, x, y, title):\n",
    "    # Plot the boxplot\n",
    "    plt.figure(figsize=(10, 6))  # Adjust figure size as needed\n",
    "    sns.boxplot(data=df, x=x, y=y, color='black')\n",
    "\n",
    "    # Show plot\n",
    "    plt.title(title)\n",
    "    plt.show()\n",
    "    \n",
    "def create_boxplot_with_count(df, x, y, title):\n",
    "    plt.figure(figsize=(10, 6))\n",
    "    sns.boxplot(data=df, y=y, x=x, color='black')\n",
    "    \n",
    "    # Add count labels for each box\n",
    "    medians = df.groupby(x)[y].median().values\n",
    "    nobs = df.groupby(x)[y].agg(['count'])\n",
    "    nobs = [\"n: \" + str(i) for s in nobs.values for i in s]\n",
    "\n",
    "    pos = range(len(nobs))\n",
    "    for tick, label in zip(pos, plt.gca().get_xticklabels()):\n",
    "        plt.text(pos[tick], medians[tick] + 0.5, nobs[tick], horizontalalignment='center', size='x-small', color='white', weight='semibold')\n",
    "\n",
    "    plt.title(title)\n",
    "    plt.xlabel(x)\n",
    "    plt.ylabel(y)\n",
    "    plt.show()\n",
    "\n",
    "def create_heatmap(df, title, annotations=True):\n",
    "    plt.figure(figsize=(10, 6))\n",
    "    sns.heatmap(df, cmap='gray', annot=annotations, fmt='.1f', linewidths=0.5, linecolor='black')\n",
    "    plt.title(title)\n",
    "    plt.xlabel(df.columns.name)\n",
    "    plt.ylabel(df.index.name)\n",
    "    plt.show()"
   ]
  },
  {
   "cell_type": "code",
   "execution_count": 3,
   "id": "428b48a8",
   "metadata": {
    "execution": {
     "iopub.execute_input": "2024-03-27T21:19:30.689463Z",
     "iopub.status.busy": "2024-03-27T21:19:30.689068Z",
     "iopub.status.idle": "2024-03-27T21:19:30.707311Z",
     "shell.execute_reply": "2024-03-27T21:19:30.706122Z"
    },
    "papermill": {
     "duration": 0.025636,
     "end_time": "2024-03-27T21:19:30.709795",
     "exception": false,
     "start_time": "2024-03-27T21:19:30.684159",
     "status": "completed"
    },
    "tags": []
   },
   "outputs": [],
   "source": [
    "def plot_confusion_matrix(y_true, y_pred, title=None, labels=None):\n",
    "    \"\"\"\n",
    "    Plot a confusion matrix.\n",
    "    \n",
    "    Args:\n",
    "        y_true (array-like): True labels.\n",
    "        y_pred (array-like): Predicted labels.\n",
    "        title (str): Title for the confusion matrix plot.\n",
    "        labels (list): List of label names.\n",
    "    \"\"\"\n",
    "    cm = confusion_matrix(y_true, y_pred)\n",
    "    total_samples = np.sum(cm)\n",
    "    percentages = (cm.T / np.sum(cm, axis=1)).T * 100\n",
    "    annotations = [[f'({cm[i, j]})\\n{percentages[i, j]:.2f}%' for j in range(len(cm))] for i in range(len(cm))]\n",
    "    if labels is None:\n",
    "        labels = [str(i) for i in range(len(cm))]\n",
    "    sns.heatmap(cm, annot=annotations, fmt='', cmap='binary', cbar=False,\n",
    "                xticklabels=labels, yticklabels=labels)\n",
    "    plt.xlabel('Predicted Labels')\n",
    "    plt.ylabel('True Labels')\n",
    "    if title:\n",
    "        plt.title(title)\n",
    "    plt.show()\n",
    "\n",
    "def plot_confusion_matrices_side_by_side(model_name, data, titles, labels=None):\n",
    "    num_matrices = len(data)\n",
    "    fig, ax = plt.subplots(1, num_matrices, figsize=(7 * num_matrices, 7))\n",
    "    fig.subplots_adjust(wspace=0.5) \n",
    "\n",
    "    def add_labels_and_percentages(conf_matrix, ax):\n",
    "        total_samples = np.sum(conf_matrix)\n",
    "        group_names = ['True Neg', 'False Pos', 'False Neg', 'True Pos']\n",
    "        labels = [f'{name}\\n{count}\\n{count/total_samples:.2%}' for name, count in zip(group_names, conf_matrix.flatten())]\n",
    "        labels = np.asarray(labels).reshape(2, 2)\n",
    "        sns.heatmap(conf_matrix, annot=labels, fmt='', cmap='binary', ax=ax,\n",
    "                    annot_kws={'size': 14, 'fontweight': 'normal'}, cbar=False,\n",
    "                    xticklabels=['0', '1'], yticklabels=['0', '1']) \n",
    "\n",
    "    for i, (y_true, y_pred) in enumerate(data):\n",
    "        conf_matrix = confusion_matrix(y_true, y_pred, labels=labels)\n",
    "        ax[i].set_title(titles[i], fontsize=14, fontweight='bold')\n",
    "        add_labels_and_percentages(conf_matrix, ax[i])\n",
    "\n",
    "        ax[i].set_xlabel('Predicted labels', fontsize=14)  \n",
    "        ax[i].set_ylabel('True labels', fontsize=14) \n",
    "        for tick in ax[i].xaxis.get_major_ticks():\n",
    "            tick.label.set_fontsize(10) \n",
    "        for tick in ax[i].yaxis.get_major_ticks():\n",
    "            tick.label.set_fontsize(10)  \n",
    "\n",
    "    fig.suptitle(model_name, fontsize=18, fontweight='bold', y=1.05, ha='center')\n",
    "    plt.show()\n"
   ]
  },
  {
   "cell_type": "markdown",
   "id": "eb68b139",
   "metadata": {
    "papermill": {
     "duration": 0.003221,
     "end_time": "2024-03-27T21:19:30.716670",
     "exception": false,
     "start_time": "2024-03-27T21:19:30.713449",
     "status": "completed"
    },
    "tags": []
   },
   "source": [
    "# Modeling Functions"
   ]
  },
  {
   "cell_type": "code",
   "execution_count": 4,
   "id": "18d742c9",
   "metadata": {
    "execution": {
     "iopub.execute_input": "2024-03-27T21:19:30.725332Z",
     "iopub.status.busy": "2024-03-27T21:19:30.724943Z",
     "iopub.status.idle": "2024-03-27T21:19:30.735892Z",
     "shell.execute_reply": "2024-03-27T21:19:30.734667Z"
    },
    "papermill": {
     "duration": 0.01822,
     "end_time": "2024-03-27T21:19:30.738428",
     "exception": false,
     "start_time": "2024-03-27T21:19:30.720208",
     "status": "completed"
    },
    "tags": []
   },
   "outputs": [],
   "source": [
    "# Function to perform randomized hyperparameter search\n",
    "def perform_randomized_search(clf, param_grid, X_train, y_train, X_test, y_test):\n",
    "    scoring = {'recall': make_scorer(recall_score)}\n",
    "    print(\"Starting hyperparameter search...\")\n",
    "    start_total = time.time()\n",
    "    gcv = RandomizedSearchCV(estimator=clf, param_distributions=param_grid, n_iter=10, cv=3, random_state=42, n_jobs=-1, verbose=2)\n",
    "    start_search = time.time()\n",
    "    gcv.fit(X_train, y_train)\n",
    "    end_search = time.time()\n",
    "\n",
    "    print(\"Searching...\")\n",
    "    for current_iter in range(1, 11):\n",
    "        elapsed_time = time.time() - start_search\n",
    "        remaining_time = (elapsed_time / current_iter) * (10 - current_iter)\n",
    "        print(f\"Iteration {current_iter} completed. Estimated remaining time: {remaining_time:.2f} seconds.\", end='\\r')\n",
    "        time.sleep(1)  # Simulate processing time\n",
    "\n",
    "    end_total = time.time()\n",
    "    elapsed_total = end_total - start_total\n",
    "#   print(f\"\\nHyperparameter search completed. Total elapsed time: {elapsed_total:.2f} seconds.\")\n",
    "    fit_time = end_search - start_search\n",
    "    cv_time = gcv.refit_time_\n",
    "\n",
    "    train_predictions = gcv.predict(X_train)\n",
    "    test_predictions = gcv.predict(X_test)\n",
    "    train_metrics = get_metrics(y_train, train_predictions)\n",
    "    test_metrics = get_metrics(y_test, test_predictions)\n",
    "    return gcv.best_params_, train_metrics, test_metrics, elapsed_total\n"
   ]
  },
  {
   "cell_type": "code",
   "execution_count": 5,
   "id": "104128c6",
   "metadata": {
    "execution": {
     "iopub.execute_input": "2024-03-27T21:19:30.748302Z",
     "iopub.status.busy": "2024-03-27T21:19:30.747693Z",
     "iopub.status.idle": "2024-03-27T21:19:30.757326Z",
     "shell.execute_reply": "2024-03-27T21:19:30.756023Z"
    },
    "papermill": {
     "duration": 0.017829,
     "end_time": "2024-03-27T21:19:30.759992",
     "exception": false,
     "start_time": "2024-03-27T21:19:30.742163",
     "status": "completed"
    },
    "tags": []
   },
   "outputs": [],
   "source": [
    "# Function to calculate evaluation metrics\n",
    "def get_metrics(true_labels, predicted_labels):\n",
    "    accuracy = accuracy_score(true_labels, predicted_labels)\n",
    "    precision = precision_score(true_labels, predicted_labels, average='binary')\n",
    "    recall = recall_score(true_labels, predicted_labels, average='binary')\n",
    "    f1 = f1_score(true_labels, predicted_labels, average='binary')\n",
    "    roc_auc = roc_auc_score(true_labels, predicted_labels)\n",
    "    return {'accuracy': accuracy, 'precision': precision, 'recall': recall, 'f1': f1, 'roc_auc': roc_auc}\n",
    "\n",
    "def display_metrics(model_name, train_metrics, test_metrics):\n",
    "    # Combine train and test metrics into a DataFrame\n",
    "    metrics_df = pd.DataFrame({'Train': train_metrics, 'Test': test_metrics})\n",
    "    \n",
    "    # Add a row for the metric names and set it as the index\n",
    "    metrics_df = metrics_df.T.rename(index={'accuracy': 'Accuracy', 'precision': 'Precision', 'recall': 'Recall', 'f1': 'F1 Score', 'roc_auc': 'ROC AUC'})\n",
    "    \n",
    "    # Format numerical values to display a maximum of 4 decimal points\n",
    "    metrics_df = metrics_df.round(4)\n",
    "    \n",
    "    # Add model name as headline\n",
    "    print(f\"\\n{'='*20}\\n{model_name}\\n{'='*20}\\n\")\n",
    "    \n",
    "    # Display the DataFrame\n",
    "    display(metrics_df)\n",
    "    "
   ]
  },
  {
   "cell_type": "code",
   "execution_count": null,
   "id": "1ddeabb8",
   "metadata": {
    "papermill": {
     "duration": 0.003693,
     "end_time": "2024-03-27T21:19:30.767446",
     "exception": false,
     "start_time": "2024-03-27T21:19:30.763753",
     "status": "completed"
    },
    "tags": []
   },
   "outputs": [],
   "source": []
  }
 ],
 "metadata": {
  "kaggle": {
   "accelerator": "none",
   "dataSources": [],
   "dockerImageVersionId": 30673,
   "isGpuEnabled": false,
   "isInternetEnabled": false,
   "language": "python",
   "sourceType": "notebook"
  },
  "kernelspec": {
   "display_name": "Python 3",
   "language": "python",
   "name": "python3"
  },
  "language_info": {
   "codemirror_mode": {
    "name": "ipython",
    "version": 3
   },
   "file_extension": ".py",
   "mimetype": "text/x-python",
   "name": "python",
   "nbconvert_exporter": "python",
   "pygments_lexer": "ipython3",
   "version": "3.10.13"
  },
  "papermill": {
   "default_parameters": {},
   "duration": 3.692969,
   "end_time": "2024-03-27T21:19:31.191898",
   "environment_variables": {},
   "exception": null,
   "input_path": "__notebook__.ipynb",
   "output_path": "__notebook__.ipynb",
   "parameters": {},
   "start_time": "2024-03-27T21:19:27.498929",
   "version": "2.5.0"
  }
 },
 "nbformat": 4,
 "nbformat_minor": 5
}
