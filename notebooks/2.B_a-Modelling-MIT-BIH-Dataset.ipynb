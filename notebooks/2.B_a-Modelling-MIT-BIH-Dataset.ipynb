{
 "cells": [
  {
   "cell_type": "code",
   "execution_count": 2,
   "id": "1c2bccbe",
   "metadata": {
    "execution": {
     "iopub.execute_input": "2024-03-25T19:33:18.699351Z",
     "iopub.status.busy": "2024-03-25T19:33:18.698690Z",
     "iopub.status.idle": "2024-03-25T19:33:25.747102Z",
     "shell.execute_reply": "2024-03-25T19:33:25.745741Z"
    },
    "papermill": {
     "duration": 7.071129,
     "end_time": "2024-03-25T19:33:25.750413",
     "exception": false,
     "start_time": "2024-03-25T19:33:18.679284",
     "status": "completed"
    },
    "tags": []
   },
   "outputs": [
    {
     "name": "stdout",
     "output_type": "stream",
     "text": [
      "Libraries imported successfully\n"
     ]
    },
    {
     "name": "stderr",
     "output_type": "stream",
     "text": [
      "IProgress not found. Please update jupyter and ipywidgets. See https://ipywidgets.readthedocs.io/en/stable/user_install.html\n"
     ]
    }
   ],
   "source": [
    "# Import all libraries and modules\n",
    "import pandas as pd\n",
    "import numpy as np\n",
    "\n",
    "# Data Viz\n",
    "import matplotlib.pyplot as plt\n",
    "import seaborn as sns\n",
    "\n",
    "## Transformation\n",
    "from sklearn.decomposition import PCA\n",
    "from sklearn import preprocessing\n",
    "from sklearn.preprocessing import MinMaxScaler, RobustScaler, StandardScaler\n",
    "\n",
    "## Downsampling\n",
    "from sklearn.model_selection import train_test_split\n",
    "from sklearn.preprocessing import StandardScaler\n",
    "from sklearn.preprocessing import LabelEncoder\n",
    "from imblearn.over_sampling import RandomOverSampler, SMOTE\n",
    "from imblearn.under_sampling import RandomUnderSampler, ClusterCentroids\n",
    "from imblearn.metrics import classification_report_imbalanced, geometric_mean_score\n",
    "from sklearn.metrics import f1_score\n",
    "from sklearn.svm import SVC\n",
    "\n",
    "\n",
    "## Modelling \n",
    "from sklearn import datasets, decomposition, ensemble, feature_selection, linear_model, metrics, model_selection, preprocessing, svm, tree\n",
    "from sklearn.ensemble import RandomForestClassifier, RandomForestRegressor, GradientBoostingClassifier, AdaBoostClassifier\n",
    "from sklearn.feature_selection import SelectFromModel, SelectKBest\n",
    "from sklearn.linear_model import LogisticRegressionCV, LogisticRegression\n",
    "from sklearn.metrics import roc_auc_score, accuracy_score, classification_report, make_scorer, confusion_matrix, explained_variance_score, f1_score, mean_absolute_error, mean_squared_error, precision_score, r2_score, recall_score, roc_curve, roc_auc_score, precision_recall_curve, average_precision_score, auc\n",
    "from sklearn.model_selection import cross_validate, cross_val_predict, cross_val_score, GridSearchCV, ShuffleSplit, train_test_split, RandomizedSearchCV\n",
    "from sklearn.calibration import calibration_curve\n",
    "from sklearn.neighbors import KNeighborsClassifier\n",
    "from sklearn.svm import LinearSVC, SVC, SVR\n",
    "from sklearn.tree import DecisionTreeClassifier\n",
    "from sklearn.utils import resample\n",
    "from xgboost import XGBClassifier\n",
    "import xgboost as xgb\n",
    "import joblib\n",
    "from joblib import dump, load\n",
    "\n",
    "import shap\n",
    "\n",
    "from sklearn.pipeline import Pipeline\n",
    "\n",
    "import warnings\n",
    "warnings.filterwarnings('ignore')\n",
    "\n",
    "from tqdm import tqdm\n",
    "import time\n",
    "\n",
    "import os\n",
    "\n",
    "print('Libraries imported successfully')\n"
   ]
  },
  {
   "cell_type": "code",
   "execution_count": 4,
   "id": "9b5eec91",
   "metadata": {
    "execution": {
     "iopub.execute_input": "2024-03-25T19:33:25.789264Z",
     "iopub.status.busy": "2024-03-25T19:33:25.788010Z",
     "iopub.status.idle": "2024-03-25T19:33:27.364662Z",
     "shell.execute_reply": "2024-03-25T19:33:27.363322Z"
    },
    "papermill": {
     "duration": 1.599046,
     "end_time": "2024-03-25T19:33:27.367462",
     "exception": false,
     "start_time": "2024-03-25T19:33:25.768416",
     "status": "completed"
    },
    "tags": []
   },
   "outputs": [
    {
     "name": "stdout",
     "output_type": "stream",
     "text": [
      "(100689, 34)\n"
     ]
    },
    {
     "data": {
      "text/html": [
       "<div>\n",
       "<style scoped>\n",
       "    .dataframe tbody tr th:only-of-type {\n",
       "        vertical-align: middle;\n",
       "    }\n",
       "\n",
       "    .dataframe tbody tr th {\n",
       "        vertical-align: top;\n",
       "    }\n",
       "\n",
       "    .dataframe thead th {\n",
       "        text-align: right;\n",
       "    }\n",
       "</style>\n",
       "<table border=\"1\" class=\"dataframe\">\n",
       "  <thead>\n",
       "    <tr style=\"text-align: right;\">\n",
       "      <th></th>\n",
       "      <th>record</th>\n",
       "      <th>type</th>\n",
       "      <th>0_pre-RR</th>\n",
       "      <th>0_post-RR</th>\n",
       "      <th>0_pPeak</th>\n",
       "      <th>0_tPeak</th>\n",
       "      <th>0_rPeak</th>\n",
       "      <th>0_sPeak</th>\n",
       "      <th>0_qPeak</th>\n",
       "      <th>0_qrs_interval</th>\n",
       "      <th>...</th>\n",
       "      <th>1_qPeak</th>\n",
       "      <th>1_qrs_interval</th>\n",
       "      <th>1_pq_interval</th>\n",
       "      <th>1_qt_interval</th>\n",
       "      <th>1_st_interval</th>\n",
       "      <th>1_qrs_morph0</th>\n",
       "      <th>1_qrs_morph1</th>\n",
       "      <th>1_qrs_morph2</th>\n",
       "      <th>1_qrs_morph3</th>\n",
       "      <th>1_qrs_morph4</th>\n",
       "    </tr>\n",
       "  </thead>\n",
       "  <tbody>\n",
       "    <tr>\n",
       "      <th>0</th>\n",
       "      <td>101</td>\n",
       "      <td>N</td>\n",
       "      <td>76</td>\n",
       "      <td>313.0</td>\n",
       "      <td>0.074347</td>\n",
       "      <td>-0.160548</td>\n",
       "      <td>1.036401</td>\n",
       "      <td>-0.285662</td>\n",
       "      <td>-0.026824</td>\n",
       "      <td>41</td>\n",
       "      <td>...</td>\n",
       "      <td>0.025930</td>\n",
       "      <td>2</td>\n",
       "      <td>18</td>\n",
       "      <td>22</td>\n",
       "      <td>2</td>\n",
       "      <td>0.025930</td>\n",
       "      <td>0.025930</td>\n",
       "      <td>0.025930</td>\n",
       "      <td>0.025436</td>\n",
       "      <td>0.025436</td>\n",
       "    </tr>\n",
       "    <tr>\n",
       "      <th>1</th>\n",
       "      <td>101</td>\n",
       "      <td>N</td>\n",
       "      <td>313</td>\n",
       "      <td>315.0</td>\n",
       "      <td>-0.052079</td>\n",
       "      <td>-0.264784</td>\n",
       "      <td>0.886597</td>\n",
       "      <td>-0.366298</td>\n",
       "      <td>-0.059710</td>\n",
       "      <td>21</td>\n",
       "      <td>...</td>\n",
       "      <td>-0.042009</td>\n",
       "      <td>26</td>\n",
       "      <td>27</td>\n",
       "      <td>62</td>\n",
       "      <td>9</td>\n",
       "      <td>-0.042009</td>\n",
       "      <td>-0.029498</td>\n",
       "      <td>0.005012</td>\n",
       "      <td>0.030892</td>\n",
       "      <td>0.002986</td>\n",
       "    </tr>\n",
       "    <tr>\n",
       "      <th>2</th>\n",
       "      <td>101</td>\n",
       "      <td>N</td>\n",
       "      <td>315</td>\n",
       "      <td>321.0</td>\n",
       "      <td>-0.062151</td>\n",
       "      <td>-0.296983</td>\n",
       "      <td>0.991859</td>\n",
       "      <td>-0.410306</td>\n",
       "      <td>-0.065686</td>\n",
       "      <td>22</td>\n",
       "      <td>...</td>\n",
       "      <td>0.009528</td>\n",
       "      <td>3</td>\n",
       "      <td>8</td>\n",
       "      <td>12</td>\n",
       "      <td>1</td>\n",
       "      <td>0.009528</td>\n",
       "      <td>0.009528</td>\n",
       "      <td>0.008786</td>\n",
       "      <td>0.008786</td>\n",
       "      <td>0.008368</td>\n",
       "    </tr>\n",
       "    <tr>\n",
       "      <th>3</th>\n",
       "      <td>101</td>\n",
       "      <td>N</td>\n",
       "      <td>321</td>\n",
       "      <td>336.0</td>\n",
       "      <td>-0.063322</td>\n",
       "      <td>-0.281386</td>\n",
       "      <td>1.034903</td>\n",
       "      <td>-0.403880</td>\n",
       "      <td>-0.071750</td>\n",
       "      <td>22</td>\n",
       "      <td>...</td>\n",
       "      <td>-0.020536</td>\n",
       "      <td>6</td>\n",
       "      <td>9</td>\n",
       "      <td>16</td>\n",
       "      <td>1</td>\n",
       "      <td>-0.020536</td>\n",
       "      <td>-0.020257</td>\n",
       "      <td>-0.018965</td>\n",
       "      <td>-0.016968</td>\n",
       "      <td>-0.014555</td>\n",
       "    </tr>\n",
       "    <tr>\n",
       "      <th>4</th>\n",
       "      <td>101</td>\n",
       "      <td>N</td>\n",
       "      <td>336</td>\n",
       "      <td>344.0</td>\n",
       "      <td>-0.062915</td>\n",
       "      <td>1.046914</td>\n",
       "      <td>1.046408</td>\n",
       "      <td>1.046408</td>\n",
       "      <td>-0.074639</td>\n",
       "      <td>11</td>\n",
       "      <td>...</td>\n",
       "      <td>0.016053</td>\n",
       "      <td>16</td>\n",
       "      <td>5</td>\n",
       "      <td>31</td>\n",
       "      <td>10</td>\n",
       "      <td>0.016053</td>\n",
       "      <td>0.006742</td>\n",
       "      <td>0.002782</td>\n",
       "      <td>-0.007798</td>\n",
       "      <td>-0.051155</td>\n",
       "    </tr>\n",
       "    <tr>\n",
       "      <th>5</th>\n",
       "      <td>101</td>\n",
       "      <td>N</td>\n",
       "      <td>344</td>\n",
       "      <td>324.0</td>\n",
       "      <td>-0.083040</td>\n",
       "      <td>-0.293023</td>\n",
       "      <td>0.931546</td>\n",
       "      <td>-0.433485</td>\n",
       "      <td>-0.088745</td>\n",
       "      <td>22</td>\n",
       "      <td>...</td>\n",
       "      <td>-0.036339</td>\n",
       "      <td>8</td>\n",
       "      <td>10</td>\n",
       "      <td>19</td>\n",
       "      <td>1</td>\n",
       "      <td>-0.036339</td>\n",
       "      <td>-0.034673</td>\n",
       "      <td>-0.026985</td>\n",
       "      <td>-0.022147</td>\n",
       "      <td>-0.013531</td>\n",
       "    </tr>\n",
       "    <tr>\n",
       "      <th>6</th>\n",
       "      <td>101</td>\n",
       "      <td>N</td>\n",
       "      <td>324</td>\n",
       "      <td>313.0</td>\n",
       "      <td>-0.067520</td>\n",
       "      <td>-0.286934</td>\n",
       "      <td>1.050545</td>\n",
       "      <td>-0.482886</td>\n",
       "      <td>-0.074666</td>\n",
       "      <td>23</td>\n",
       "      <td>...</td>\n",
       "      <td>-0.032788</td>\n",
       "      <td>27</td>\n",
       "      <td>10</td>\n",
       "      <td>45</td>\n",
       "      <td>8</td>\n",
       "      <td>-0.032788</td>\n",
       "      <td>-0.017467</td>\n",
       "      <td>0.013925</td>\n",
       "      <td>0.035176</td>\n",
       "      <td>0.016576</td>\n",
       "    </tr>\n",
       "    <tr>\n",
       "      <th>7</th>\n",
       "      <td>101</td>\n",
       "      <td>N</td>\n",
       "      <td>313</td>\n",
       "      <td>313.0</td>\n",
       "      <td>-0.085844</td>\n",
       "      <td>-0.341904</td>\n",
       "      <td>1.154904</td>\n",
       "      <td>-0.439149</td>\n",
       "      <td>-0.094663</td>\n",
       "      <td>22</td>\n",
       "      <td>...</td>\n",
       "      <td>-0.008229</td>\n",
       "      <td>8</td>\n",
       "      <td>2</td>\n",
       "      <td>21</td>\n",
       "      <td>11</td>\n",
       "      <td>-0.008229</td>\n",
       "      <td>-0.011703</td>\n",
       "      <td>-0.024895</td>\n",
       "      <td>-0.034285</td>\n",
       "      <td>-0.054572</td>\n",
       "    </tr>\n",
       "    <tr>\n",
       "      <th>8</th>\n",
       "      <td>101</td>\n",
       "      <td>N</td>\n",
       "      <td>313</td>\n",
       "      <td>310.0</td>\n",
       "      <td>-0.061510</td>\n",
       "      <td>-0.257011</td>\n",
       "      <td>1.107787</td>\n",
       "      <td>-0.385508</td>\n",
       "      <td>-0.065044</td>\n",
       "      <td>25</td>\n",
       "      <td>...</td>\n",
       "      <td>-0.029834</td>\n",
       "      <td>21</td>\n",
       "      <td>31</td>\n",
       "      <td>61</td>\n",
       "      <td>9</td>\n",
       "      <td>-0.029834</td>\n",
       "      <td>-0.020603</td>\n",
       "      <td>0.004411</td>\n",
       "      <td>0.025997</td>\n",
       "      <td>0.015942</td>\n",
       "    </tr>\n",
       "    <tr>\n",
       "      <th>9</th>\n",
       "      <td>101</td>\n",
       "      <td>N</td>\n",
       "      <td>310</td>\n",
       "      <td>329.0</td>\n",
       "      <td>-0.063513</td>\n",
       "      <td>-0.319736</td>\n",
       "      <td>1.087343</td>\n",
       "      <td>-0.425738</td>\n",
       "      <td>-0.074461</td>\n",
       "      <td>22</td>\n",
       "      <td>...</td>\n",
       "      <td>0.018915</td>\n",
       "      <td>15</td>\n",
       "      <td>2</td>\n",
       "      <td>26</td>\n",
       "      <td>9</td>\n",
       "      <td>0.018915</td>\n",
       "      <td>0.010747</td>\n",
       "      <td>0.000927</td>\n",
       "      <td>-0.018538</td>\n",
       "      <td>-0.060157</td>\n",
       "    </tr>\n",
       "  </tbody>\n",
       "</table>\n",
       "<p>10 rows × 34 columns</p>\n",
       "</div>"
      ],
      "text/plain": [
       "   record type  0_pre-RR  0_post-RR   0_pPeak   0_tPeak   0_rPeak   0_sPeak  \\\n",
       "0     101    N        76      313.0  0.074347 -0.160548  1.036401 -0.285662   \n",
       "1     101    N       313      315.0 -0.052079 -0.264784  0.886597 -0.366298   \n",
       "2     101    N       315      321.0 -0.062151 -0.296983  0.991859 -0.410306   \n",
       "3     101    N       321      336.0 -0.063322 -0.281386  1.034903 -0.403880   \n",
       "4     101    N       336      344.0 -0.062915  1.046914  1.046408  1.046408   \n",
       "5     101    N       344      324.0 -0.083040 -0.293023  0.931546 -0.433485   \n",
       "6     101    N       324      313.0 -0.067520 -0.286934  1.050545 -0.482886   \n",
       "7     101    N       313      313.0 -0.085844 -0.341904  1.154904 -0.439149   \n",
       "8     101    N       313      310.0 -0.061510 -0.257011  1.107787 -0.385508   \n",
       "9     101    N       310      329.0 -0.063513 -0.319736  1.087343 -0.425738   \n",
       "\n",
       "    0_qPeak  0_qrs_interval  ...   1_qPeak  1_qrs_interval  1_pq_interval  \\\n",
       "0 -0.026824              41  ...  0.025930               2             18   \n",
       "1 -0.059710              21  ... -0.042009              26             27   \n",
       "2 -0.065686              22  ...  0.009528               3              8   \n",
       "3 -0.071750              22  ... -0.020536               6              9   \n",
       "4 -0.074639              11  ...  0.016053              16              5   \n",
       "5 -0.088745              22  ... -0.036339               8             10   \n",
       "6 -0.074666              23  ... -0.032788              27             10   \n",
       "7 -0.094663              22  ... -0.008229               8              2   \n",
       "8 -0.065044              25  ... -0.029834              21             31   \n",
       "9 -0.074461              22  ...  0.018915              15              2   \n",
       "\n",
       "   1_qt_interval  1_st_interval  1_qrs_morph0  1_qrs_morph1  1_qrs_morph2  \\\n",
       "0             22              2      0.025930      0.025930      0.025930   \n",
       "1             62              9     -0.042009     -0.029498      0.005012   \n",
       "2             12              1      0.009528      0.009528      0.008786   \n",
       "3             16              1     -0.020536     -0.020257     -0.018965   \n",
       "4             31             10      0.016053      0.006742      0.002782   \n",
       "5             19              1     -0.036339     -0.034673     -0.026985   \n",
       "6             45              8     -0.032788     -0.017467      0.013925   \n",
       "7             21             11     -0.008229     -0.011703     -0.024895   \n",
       "8             61              9     -0.029834     -0.020603      0.004411   \n",
       "9             26              9      0.018915      0.010747      0.000927   \n",
       "\n",
       "   1_qrs_morph3  1_qrs_morph4  \n",
       "0      0.025436      0.025436  \n",
       "1      0.030892      0.002986  \n",
       "2      0.008786      0.008368  \n",
       "3     -0.016968     -0.014555  \n",
       "4     -0.007798     -0.051155  \n",
       "5     -0.022147     -0.013531  \n",
       "6      0.035176      0.016576  \n",
       "7     -0.034285     -0.054572  \n",
       "8      0.025997      0.015942  \n",
       "9     -0.018538     -0.060157  \n",
       "\n",
       "[10 rows x 34 columns]"
      ]
     },
     "execution_count": 4,
     "metadata": {},
     "output_type": "execute_result"
    }
   ],
   "source": [
    "# Reading MIT-BIH Arrhythmia Dataset as an example\n",
    "df = pd.read_csv('MIT-BIH Arrhythmia Database.csv') \n",
    "print(df.shape)\n",
    "df.head(10)"
   ]
  },
  {
   "cell_type": "markdown",
   "id": "df09b996",
   "metadata": {
    "papermill": {
     "duration": 0.024289,
     "end_time": "2024-03-25T19:33:34.691167",
     "exception": false,
     "start_time": "2024-03-25T19:33:34.666878",
     "status": "completed"
    },
    "tags": []
   },
   "source": [
    "# Create binary target variable from type column"
   ]
  },
  {
   "cell_type": "code",
   "execution_count": null,
   "id": "efdd83cb",
   "metadata": {
    "execution": {
     "iopub.execute_input": "2024-03-25T19:33:34.742632Z",
     "iopub.status.busy": "2024-03-25T19:33:34.742156Z",
     "iopub.status.idle": "2024-03-25T19:33:34.853760Z",
     "shell.execute_reply": "2024-03-25T19:33:34.851931Z"
    },
    "papermill": {
     "duration": 0.140595,
     "end_time": "2024-03-25T19:33:34.856360",
     "exception": false,
     "start_time": "2024-03-25T19:33:34.715765",
     "status": "completed"
    },
    "tags": []
   },
   "outputs": [
    {
     "name": "stdout",
     "output_type": "stream",
     "text": [
      "['N' 'SVEB' 'VEB' 'F']\n",
      "(100674, 26)\n",
      "0    90083\n",
      "1    10591\n",
      "Name: label, dtype: int64\n"
     ]
    }
   ],
   "source": [
    "unique_types = df['type'].unique()\n",
    "print(unique_types)\n",
    "print(df.shape)\n",
    "\n",
    "# Create binary target variable \n",
    "df['label'] = df['type'].apply(lambda x: 0 if x == 'N' else 1)\n",
    "df.drop(['type', 'record'], axis=1, inplace=True)\n",
    "\n",
    "# Print the value counts of the new 'class' column\n",
    "print(df['label'].value_counts())"
   ]
  },
  {
   "cell_type": "markdown",
   "id": "4bae3864",
   "metadata": {
    "papermill": {
     "duration": 0.024147,
     "end_time": "2024-03-25T19:33:34.905280",
     "exception": false,
     "start_time": "2024-03-25T19:33:34.881133",
     "status": "completed"
    },
    "tags": []
   },
   "source": [
    "# Scaling of features"
   ]
  },
  {
   "cell_type": "code",
   "execution_count": 10,
   "id": "9319fdce",
   "metadata": {
    "execution": {
     "iopub.execute_input": "2024-03-25T19:33:34.957167Z",
     "iopub.status.busy": "2024-03-25T19:33:34.956338Z",
     "iopub.status.idle": "2024-03-25T19:33:35.033900Z",
     "shell.execute_reply": "2024-03-25T19:33:35.032614Z"
    },
    "papermill": {
     "duration": 0.107063,
     "end_time": "2024-03-25T19:33:35.036935",
     "exception": false,
     "start_time": "2024-03-25T19:33:34.929872",
     "status": "completed"
    },
    "tags": []
   },
   "outputs": [
    {
     "name": "stdout",
     "output_type": "stream",
     "text": [
      "[0.00047551 0.00047438 0.14460252 0.163272   0.15645161 0.13086489\n",
      " 0.16570164 0.00588235 0.00671141 0.00303951 0.16570164 0.16077164\n",
      " 0.17486125 0.00047551 0.00047438 0.13755979 0.10530541 0.10556911\n",
      " 0.10509129 0.00384615 0.00543478 0.002457   0.0046729  0.10509129]\n"
     ]
    }
   ],
   "source": [
    "# Separate features and target variable\n",
    "X = df.drop(['label'], axis=1)  # Features\n",
    "y = df['label']  # Target variable\n",
    "\n",
    "# Scaling of features \n",
    "scaler = MinMaxScaler()\n",
    "X_scaled = scaler.fit_transform(X)\n",
    "print(scaler.scale_)"
   ]
  },
  {
   "cell_type": "markdown",
   "id": "fbffe3d1",
   "metadata": {
    "papermill": {
     "duration": 0.024302,
     "end_time": "2024-03-25T19:33:35.085902",
     "exception": false,
     "start_time": "2024-03-25T19:33:35.061600",
     "status": "completed"
    },
    "tags": []
   },
   "source": [
    "# Downsampling"
   ]
  },
  {
   "cell_type": "code",
   "execution_count": 11,
   "id": "4f5da0a8",
   "metadata": {
    "execution": {
     "iopub.execute_input": "2024-03-25T19:33:35.137830Z",
     "iopub.status.busy": "2024-03-25T19:33:35.136784Z",
     "iopub.status.idle": "2024-03-25T19:33:35.190707Z",
     "shell.execute_reply": "2024-03-25T19:33:35.189050Z"
    },
    "papermill": {
     "duration": 0.083501,
     "end_time": "2024-03-25T19:33:35.193973",
     "exception": false,
     "start_time": "2024-03-25T19:33:35.110472",
     "status": "completed"
    },
    "tags": []
   },
   "outputs": [
    {
     "data": {
      "text/plain": [
       "(21182, 25)"
      ]
     },
     "execution_count": 11,
     "metadata": {},
     "output_type": "execute_result"
    }
   ],
   "source": [
    "# Downsample the majority class\n",
    "majority_class = df[df['label'] == 0]\n",
    "minority_class = df[df['label'] == 1]\n",
    "downsampled_majority = resample(majority_class, \n",
    "                                replace=False,    \n",
    "                                n_samples=len(minority_class),  \n",
    "                                random_state=42)  \n",
    "\n",
    "# Combine minority class with downsampled majority class\n",
    "balanced_df = pd.concat([downsampled_majority, minority_class])\n",
    "\n",
    "# Shuffle the dataset\n",
    "balanced_df = balanced_df.sample(frac=1, random_state=42)\n",
    "balanced_df.shape\n"
   ]
  },
  {
   "cell_type": "markdown",
   "id": "fcda548c",
   "metadata": {
    "papermill": {
     "duration": 0.025164,
     "end_time": "2024-03-25T19:33:35.244481",
     "exception": false,
     "start_time": "2024-03-25T19:33:35.219317",
     "status": "completed"
    },
    "tags": []
   },
   "source": [
    "# Seperate Features and Target after Downsampling"
   ]
  },
  {
   "cell_type": "code",
   "execution_count": 12,
   "id": "7d6659dd",
   "metadata": {
    "execution": {
     "iopub.execute_input": "2024-03-25T19:33:35.298725Z",
     "iopub.status.busy": "2024-03-25T19:33:35.298193Z",
     "iopub.status.idle": "2024-03-25T19:33:35.559383Z",
     "shell.execute_reply": "2024-03-25T19:33:35.557668Z"
    },
    "papermill": {
     "duration": 0.294647,
     "end_time": "2024-03-25T19:33:35.564380",
     "exception": false,
     "start_time": "2024-03-25T19:33:35.269733",
     "status": "completed"
    },
    "tags": []
   },
   "outputs": [
    {
     "data": {
      "image/png": "[encoded data removed]",
      "text/plain": [
       "<Figure size 288x288 with 1 Axes>"
      ]
     },
     "metadata": {},
     "output_type": "display_data"
    },
    {
     "data": {
      "image/png": "[encoded data removed]",
      "text/plain": [
       "<Figure size 288x288 with 1 Axes>"
      ]
     },
     "metadata": {},
     "output_type": "display_data"
    }
   ],
   "source": [
    "# Create pie chart for the distribution before downsampling\n",
    "label_counts_original = np.bincount(df['label'].astype(int))\n",
    "plt.figure(figsize=(4, 4))\n",
    "plt.pie(label_counts_original, labels=['Normal', 'Abnormal'], explode=[0.05, 0.05], autopct=\"%0.2f%%\", colors=[\"palevioletred\", \"darksalmon\"])\n",
    "plt.title('Distribution before downsampling')\n",
    "plt.savefig('Piechart_before_downsampling.png')\n",
    "plt.show()\n",
    "\n",
    "# Separate features and target variable after downsampling\n",
    "X_balanced = balanced_df.drop(['label'], axis=1)  # Features\n",
    "y_balanced = balanced_df['label']  # Target variable\n",
    "\n",
    "# Create pie chart for the distribution after downsampling\n",
    "label_counts_ds = np.bincount(balanced_df['label'].astype(int))\n",
    "plt.figure(figsize=(4, 4))\n",
    "plt.pie(label_counts_ds, labels=['Normal', 'Abnormal'], explode=[0.05, 0.05], autopct=\"%0.2f%%\", colors=[\"palevioletred\", \"darksalmon\"])\n",
    "plt.title('Distribution after downsampling')\n",
    "plt.savefig('Piechart_after_downsampling.png')\n",
    "plt.show()"
   ]
  },
  {
   "cell_type": "markdown",
   "id": "6a46d6df",
   "metadata": {
    "papermill": {
     "duration": 0.045308,
     "end_time": "2024-03-25T19:33:35.668023",
     "exception": false,
     "start_time": "2024-03-25T19:33:35.622715",
     "status": "completed"
    },
    "tags": []
   },
   "source": [
    "# Splitting the dataset"
   ]
  },
  {
   "cell_type": "code",
   "execution_count": 13,
   "id": "89c789cd",
   "metadata": {
    "execution": {
     "iopub.execute_input": "2024-03-25T19:33:35.724261Z",
     "iopub.status.busy": "2024-03-25T19:33:35.723496Z",
     "iopub.status.idle": "2024-03-25T19:33:35.742318Z",
     "shell.execute_reply": "2024-03-25T19:33:35.740733Z"
    },
    "papermill": {
     "duration": 0.050249,
     "end_time": "2024-03-25T19:33:35.745119",
     "exception": false,
     "start_time": "2024-03-25T19:33:35.694870",
     "status": "completed"
    },
    "tags": []
   },
   "outputs": [
    {
     "name": "stdout",
     "output_type": "stream",
     "text": [
      "Shape of X_train after downsampling: (16945, 24)\n",
      "Shape of y_train after downsampling: (16945,)\n",
      "Shape of X_test after downsampling: (4237, 24)\n",
      "Shape of y_test after downsampling: (4237,)\n"
     ]
    }
   ],
   "source": [
    "# Split the balanced dataset into train and test sets\n",
    "X_train, X_test, y_train, y_test = train_test_split(X_balanced, y_balanced, test_size=0.2, random_state=42)\n",
    "\n",
    "print('Shape of X_train after downsampling:', X_train.shape)\n",
    "print('Shape of y_train after downsampling:', y_train.shape)\n",
    "print('Shape of X_test after downsampling:', X_test.shape)\n",
    "print('Shape of y_test after downsampling:', y_test.shape)"
   ]
  },
  {
   "cell_type": "markdown",
   "id": "1fd2fbd6",
   "metadata": {
    "papermill": {
     "duration": 0.027024,
     "end_time": "2024-03-25T19:33:35.799518",
     "exception": false,
     "start_time": "2024-03-25T19:33:35.772494",
     "status": "completed"
    },
    "tags": []
   },
   "source": [
    "# Modelling"
   ]
  },
  {
   "cell_type": "markdown",
   "id": "a573e7f1",
   "metadata": {
    "papermill": {
     "duration": 0.026798,
     "end_time": "2024-03-25T19:33:35.853431",
     "exception": false,
     "start_time": "2024-03-25T19:33:35.826633",
     "status": "completed"
    },
    "tags": []
   },
   "source": [
    "# Definition of Classifiers and Hyperparameters for RandomizedSearch"
   ]
  },
  {
   "cell_type": "code",
   "execution_count": 14,
   "id": "473a4492",
   "metadata": {
    "execution": {
     "iopub.execute_input": "2024-03-25T19:33:35.910813Z",
     "iopub.status.busy": "2024-03-25T19:33:35.909955Z",
     "iopub.status.idle": "2024-03-25T19:33:35.926663Z",
     "shell.execute_reply": "2024-03-25T19:33:35.924982Z"
    },
    "papermill": {
     "duration": 0.049421,
     "end_time": "2024-03-25T19:33:35.929822",
     "exception": false,
     "start_time": "2024-03-25T19:33:35.880401",
     "status": "completed"
    },
    "tags": []
   },
   "outputs": [
    {
     "name": "stdout",
     "output_type": "stream",
     "text": [
      "parameters set\n"
     ]
    }
   ],
   "source": [
    "# Define classifiers with specified parameters\n",
    "clf_lr = LogisticRegression(random_state=22, max_iter=5000)\n",
    "clf_rf = RandomForestClassifier(random_state=22)\n",
    "clf_svc = SVC(random_state=22)\n",
    "clf_en = LogisticRegression(penalty='elasticnet', solver='saga', max_iter=10000)\n",
    "clf_gb = GradientBoostingClassifier(random_state=42)\n",
    "clf_ada = AdaBoostClassifier()\n",
    "clf_xgb = xgb.XGBClassifier()\n",
    "\n",
    "# Define parameter grids for each classifier\n",
    "param_grid_lr = {'C': np.logspace(-4, 2, 9), 'penalty': ['l1', 'l2']}\n",
    "param_grid_rf = {'n_estimators': [10, 50, 100, 250, 500, 1000], 'min_samples_leaf': [1, 3, 5], 'max_features': ['sqrt', 'log2']}\n",
    "param_grid_svc = {'C': np.logspace(-4, 2, 9), 'kernel': ['linear', 'rbf']}\n",
    "param_grid_en = {'C': np.logspace(-4, 2, 9), 'l1_ratio': np.linspace(0.1, 0.9, 9)}\n",
    "param_grid_gb = {'n_estimators': [50, 100, 200], 'learning_rate': [0.01, 0.1, 1.0], 'max_depth': [3, 5, 7]}\n",
    "param_grid_ada = {'n_estimators': [50, 100, 200], 'learning_rate': [0.01, 0.1, 1.0]}\n",
    "param_grid_xgb = {'n_estimators': [50, 100, 200], 'learning_rate': [0.01, 0.1, 1.0], 'max_depth': [3, 5, 7]}\n",
    "\n",
    "print('parameters set')"
   ]
  },
  {
   "cell_type": "markdown",
   "id": "2bbcc3d3",
   "metadata": {
    "papermill": {
     "duration": 0.026706,
     "end_time": "2024-03-25T19:33:35.982903",
     "exception": false,
     "start_time": "2024-03-25T19:33:35.956197",
     "status": "completed"
    },
    "tags": []
   },
   "source": [
    "# Defining the Modelling Functions"
   ]
  },
  {
   "cell_type": "code",
   "execution_count": 15,
   "id": "7cd51ad0",
   "metadata": {
    "execution": {
     "iopub.execute_input": "2024-03-25T19:33:36.040376Z",
     "iopub.status.busy": "2024-03-25T19:33:36.039946Z",
     "iopub.status.idle": "2024-03-25T19:33:36.054451Z",
     "shell.execute_reply": "2024-03-25T19:33:36.053012Z"
    },
    "papermill": {
     "duration": 0.04685,
     "end_time": "2024-03-25T19:33:36.057117",
     "exception": false,
     "start_time": "2024-03-25T19:33:36.010267",
     "status": "completed"
    },
    "tags": []
   },
   "outputs": [
    {
     "name": "stdout",
     "output_type": "stream",
     "text": [
      "Modeling function defined\n"
     ]
    }
   ],
   "source": [
    "# Function to perform randomized hyperparameter search\n",
    "def perform_randomized_search(clf, param_grid, X_train, y_train, X_test, y_test):\n",
    "    scoring = {'recall': make_scorer(recall_score)}\n",
    "    print(\"Starting hyperparameter search...\")\n",
    "    start_total = time.time()\n",
    "    gcv = RandomizedSearchCV(estimator=clf, param_distributions=param_grid, n_iter=10, cv=3, random_state=42, n_jobs=-1, verbose=2)\n",
    "    start_search = time.time()\n",
    "    gcv.fit(X_train, y_train)\n",
    "    end_search = time.time()\n",
    "\n",
    "    print(\"Searching...\")\n",
    "    for current_iter in range(1, 11):\n",
    "        elapsed_time = time.time() - start_search\n",
    "        remaining_time = (elapsed_time / current_iter) * (10 - current_iter)\n",
    "        print(f\"Iteration {current_iter} completed. Estimated remaining time: {remaining_time:.2f} seconds.\", end='\\r')\n",
    "        time.sleep(1)  # Simulate processing time\n",
    "\n",
    "    end_total = time.time()\n",
    "    elapsed_total = end_total - start_total\n",
    "#   print(f\"\\nHyperparameter search completed. Total elapsed time: {elapsed_total:.2f} seconds.\")\n",
    "    fit_time = end_search - start_search\n",
    "    cv_time = gcv.refit_time_\n",
    "\n",
    "    train_predictions = gcv.predict(X_train)\n",
    "    test_predictions = gcv.predict(X_test)\n",
    "    train_metrics = get_metrics(y_train, train_predictions)\n",
    "    test_metrics = get_metrics(y_test, test_predictions)\n",
    "    return gcv.best_params_, train_metrics, test_metrics, elapsed_total\n",
    "\n",
    "print('Modeling function defined')"
   ]
  },
  {
   "cell_type": "markdown",
   "id": "79f0c146",
   "metadata": {
    "execution": {
     "iopub.execute_input": "2024-03-19T10:32:48.930478Z",
     "iopub.status.busy": "2024-03-19T10:32:48.929977Z",
     "iopub.status.idle": "2024-03-19T10:32:48.935925Z",
     "shell.execute_reply": "2024-03-19T10:32:48.934570Z",
     "shell.execute_reply.started": "2024-03-19T10:32:48.930441Z"
    },
    "papermill": {
     "duration": 0.027794,
     "end_time": "2024-03-25T19:33:36.111964",
     "exception": false,
     "start_time": "2024-03-25T19:33:36.084170",
     "status": "completed"
    },
    "tags": []
   },
   "source": [
    "# Define Evaluation Function"
   ]
  },
  {
   "cell_type": "code",
   "execution_count": 16,
   "id": "2a4cbeac",
   "metadata": {
    "execution": {
     "iopub.execute_input": "2024-03-25T19:33:36.169469Z",
     "iopub.status.busy": "2024-03-25T19:33:36.168456Z",
     "iopub.status.idle": "2024-03-25T19:33:36.195487Z",
     "shell.execute_reply": "2024-03-25T19:33:36.193313Z"
    },
    "papermill": {
     "duration": 0.059086,
     "end_time": "2024-03-25T19:33:36.198705",
     "exception": false,
     "start_time": "2024-03-25T19:33:36.139619",
     "status": "completed"
    },
    "tags": []
   },
   "outputs": [
    {
     "name": "stdout",
     "output_type": "stream",
     "text": [
      "Evaluation Functions defined\n"
     ]
    }
   ],
   "source": [
    "# Function to calculate evaluation metrics\n",
    "def get_metrics(true_labels, predicted_labels):\n",
    "    accuracy = accuracy_score(true_labels, predicted_labels)\n",
    "    precision = precision_score(true_labels, predicted_labels, average='binary')\n",
    "    recall = recall_score(true_labels, predicted_labels, average='binary')\n",
    "    f1 = f1_score(true_labels, predicted_labels, average='binary')\n",
    "    roc_auc = roc_auc_score(true_labels, predicted_labels)\n",
    "    return {'accuracy': accuracy, 'precision': precision, 'recall': recall, 'f1': f1, 'roc_auc': roc_auc}\n",
    "\n",
    "def display_metrics(model_name, train_metrics, test_metrics):\n",
    "    # Combine train and test metrics into a DataFrame\n",
    "    metrics_df = pd.DataFrame({'Train': train_metrics, 'Test': test_metrics})\n",
    "    \n",
    "    # Add a row for the metric names and set it as the index\n",
    "    metrics_df = metrics_df.T.rename(index={'accuracy': 'Accuracy', 'precision': 'Precision', 'recall': 'Recall', 'f1': 'F1 Score', 'roc_auc': 'ROC AUC'})\n",
    "    \n",
    "    # Format numerical values to display a maximum of 4 decimal points\n",
    "    metrics_df = metrics_df.round(4)\n",
    "    \n",
    "    # Add model name as headline\n",
    "    print(f\"\\n{'='*20}\\n{model_name}\\n{'='*20}\\n\")\n",
    "    \n",
    "    # Display the DataFrame\n",
    "    display(metrics_df)\n",
    "\n",
    "# Plot_confusion_matrix function\n",
    "def plot_confusion_matrix_side_by_side(model_name, y_true_train, y_pred_train, y_true_test, y_pred_test, labels=None):\n",
    "    fig, ax = plt.subplots(1, 2, figsize=(16, 7))\n",
    "    fig.subplots_adjust(wspace=0.5) \n",
    "\n",
    "    def add_labels_and_percentages(conf_matrix, ax):\n",
    "        total_samples = np.sum(conf_matrix)\n",
    "        group_names = ['True Neg', 'False Pos', 'False Neg', 'True Pos']\n",
    "        labels = [f'{name}\\n{count}\\n{count/total_samples:.2%}' for name, count in zip(group_names, conf_matrix.flatten())]\n",
    "        labels = np.asarray(labels).reshape(2, 2)\n",
    "        sns.heatmap(conf_matrix, annot=labels, fmt='', cmap='Blues', ax=ax,\n",
    "                    annot_kws={'size': 14, 'fontweight': 'normal'}, cbar=False,\n",
    "                    xticklabels=['0', '1'], yticklabels=['0', '1']) \n",
    "\n",
    "    # Training Confusion Matrix\n",
    "    conf_matrix_train = confusion_matrix(y_true_train, y_pred_train, labels=labels)\n",
    "    ax[0].set_title('Training Data', fontsize=14, fontweight='bold')\n",
    "    add_labels_and_percentages(conf_matrix_train, ax[0])\n",
    "\n",
    "    # Testing Confusion Matrix\n",
    "    conf_matrix_test = confusion_matrix(y_true_test, y_pred_test, labels=labels)\n",
    "    ax[1].set_title('Testing Data', fontsize=14, fontweight='bold') \n",
    "    add_labels_and_percentages(conf_matrix_test, ax[1])\n",
    "\n",
    "    for axis in ax:\n",
    "        axis.set_xlabel('Predicted labels', fontsize=14)  \n",
    "        axis.set_ylabel('True labels', fontsize=14) \n",
    "        # Set smaller tick labels\n",
    "        for tick in axis.xaxis.get_major_ticks():\n",
    "            tick.label.set_fontsize(10) \n",
    "        for tick in axis.yaxis.get_major_ticks():\n",
    "            tick.label.set_fontsize(10)  \n",
    "\n",
    "    # Adding headline with model name\n",
    "    fig.suptitle(model_name, fontsize=18, fontweight='bold', y=1.05, ha='center')\n",
    "\n",
    "    plt.show()\n",
    "    \n",
    "print('Evaluation Functions defined')"
   ]
  },
  {
   "cell_type": "markdown",
   "id": "87022e62",
   "metadata": {
    "papermill": {
     "duration": 0.026869,
     "end_time": "2024-03-25T19:33:36.252149",
     "exception": false,
     "start_time": "2024-03-25T19:33:36.225280",
     "status": "completed"
    },
    "tags": []
   },
   "source": [
    "# Logistic Regression"
   ]
  },
  {
   "cell_type": "code",
   "execution_count": 17,
   "id": "160cdac3",
   "metadata": {
    "execution": {
     "iopub.execute_input": "2024-03-25T19:33:36.311350Z",
     "iopub.status.busy": "2024-03-25T19:33:36.309404Z",
     "iopub.status.idle": "2024-03-25T19:34:08.522878Z",
     "shell.execute_reply": "2024-03-25T19:34:08.520922Z"
    },
    "papermill": {
     "duration": 32.246577,
     "end_time": "2024-03-25T19:34:08.526270",
     "exception": false,
     "start_time": "2024-03-25T19:33:36.279693",
     "status": "completed"
    },
    "tags": []
   },
   "outputs": [
    {
     "name": "stdout",
     "output_type": "stream",
     "text": [
      "Logistic Regression\n",
      "Starting hyperparameter search...\n",
      "Fitting 3 folds for each of 10 candidates, totalling 30 fits\n",
      "Searching...\n",
      "Best Parameters: {'penalty': 'l2', 'C': 3.1622776601683795}\n",
      "\n",
      "====================\n",
      "Logistic Regression\n",
      "====================\n",
      "\n"
     ]
    },
    {
     "data": {
      "text/html": [
       "<div>\n",
       "<style scoped>\n",
       "    .dataframe tbody tr th:only-of-type {\n",
       "        vertical-align: middle;\n",
       "    }\n",
       "\n",
       "    .dataframe tbody tr th {\n",
       "        vertical-align: top;\n",
       "    }\n",
       "\n",
       "    .dataframe thead th {\n",
       "        text-align: right;\n",
       "    }\n",
       "</style>\n",
       "<table border=\"1\" class=\"dataframe\">\n",
       "  <thead>\n",
       "    <tr style=\"text-align: right;\">\n",
       "      <th></th>\n",
       "      <th>accuracy</th>\n",
       "      <th>precision</th>\n",
       "      <th>recall</th>\n",
       "      <th>f1</th>\n",
       "      <th>roc_auc</th>\n",
       "    </tr>\n",
       "  </thead>\n",
       "  <tbody>\n",
       "    <tr>\n",
       "      <th>Train</th>\n",
       "      <td>0.8638</td>\n",
       "      <td>0.8858</td>\n",
       "      <td>0.8355</td>\n",
       "      <td>0.8599</td>\n",
       "      <td>0.8638</td>\n",
       "    </tr>\n",
       "    <tr>\n",
       "      <th>Test</th>\n",
       "      <td>0.8678</td>\n",
       "      <td>0.8943</td>\n",
       "      <td>0.8333</td>\n",
       "      <td>0.8627</td>\n",
       "      <td>0.8677</td>\n",
       "    </tr>\n",
       "  </tbody>\n",
       "</table>\n",
       "</div>"
      ],
      "text/plain": [
       "       accuracy  precision  recall      f1  roc_auc\n",
       "Train    0.8638     0.8858  0.8355  0.8599   0.8638\n",
       "Test     0.8678     0.8943  0.8333  0.8627   0.8677"
      ]
     },
     "metadata": {},
     "output_type": "display_data"
    },
    {
     "data": {
      "image/png": "[encoded data removed]",
      "text/plain": [
       "<Figure size 1152x504 with 2 Axes>"
      ]
     },
     "metadata": {
      "needs_background": "light"
     },
     "output_type": "display_data"
    }
   ],
   "source": [
    "# Logistic Regression\n",
    "print(\"Logistic Regression\")\n",
    "\n",
    "# Perform hyperparameter tuning for LogReg\n",
    "best_params_lr, train_metrics_lr, test_metrics_lr, elapsed_total_lr = perform_randomized_search(clf_lr, param_grid_lr, X_train, y_train, X_test, y_test)\n",
    "\n",
    "# Fit the model with the best hyperparameters\n",
    "clf_lr_best = LogisticRegression(**best_params_lr)\n",
    "clf_lr_best.fit(X_train, y_train)\n",
    "\n",
    "# Obtain predictions\n",
    "train_predictions_lr = clf_lr_best.predict(X_train)\n",
    "test_predictions_lr = clf_lr_best.predict(X_test)\n",
    "\n",
    "# Store results \n",
    "lr_results = {\n",
    "    'best_params': best_params_lr,\n",
    "    'train_metrics': train_metrics_lr,\n",
    "    'test_metrics': test_metrics_lr,\n",
    "    'elapsed_total': elapsed_total_lr,\n",
    "    'test_predictions': test_predictions_lr,\n",
    "}\n",
    "\n",
    "# Displaying the model metrics\n",
    "print(\"Best Parameters:\", best_params_lr)\n",
    "display_metrics('Logistic Regression', train_metrics_lr, test_metrics_lr)\n",
    "\n",
    "# Plot confusion matrix using the adjusted function that plots both train and test data side by side\n",
    "plot_confusion_matrix_side_by_side('Logistic Regression', y_train, train_predictions_lr, y_test, test_predictions_lr)"
   ]
  },
  {
   "cell_type": "markdown",
   "id": "74d094d5",
   "metadata": {
    "papermill": {
     "duration": 0.027961,
     "end_time": "2024-03-25T19:34:08.583298",
     "exception": false,
     "start_time": "2024-03-25T19:34:08.555337",
     "status": "completed"
    },
    "tags": []
   },
   "source": [
    "# RandomForest"
   ]
  },
  {
   "cell_type": "code",
   "execution_count": 18,
   "id": "9a80f03d",
   "metadata": {
    "execution": {
     "iopub.execute_input": "2024-03-25T19:34:08.643184Z",
     "iopub.status.busy": "2024-03-25T19:34:08.642694Z",
     "iopub.status.idle": "2024-03-25T19:36:46.293020Z",
     "shell.execute_reply": "2024-03-25T19:36:46.291432Z"
    },
    "papermill": {
     "duration": 157.683736,
     "end_time": "2024-03-25T19:36:46.295982",
     "exception": false,
     "start_time": "2024-03-25T19:34:08.612246",
     "status": "completed"
    },
    "tags": []
   },
   "outputs": [
    {
     "name": "stdout",
     "output_type": "stream",
     "text": [
      "Random Forest\n",
      "Starting hyperparameter search...\n",
      "Fitting 3 folds for each of 10 candidates, totalling 30 fits\n",
      "Searching...\n",
      "Best Parameters: {'n_estimators': 250, 'min_samples_leaf': 1, 'max_features': 'log2'}\n",
      "\n",
      "====================\n",
      "Random Forest\n",
      "====================\n",
      "\n"
     ]
    },
    {
     "data": {
      "text/html": [
       "<div>\n",
       "<style scoped>\n",
       "    .dataframe tbody tr th:only-of-type {\n",
       "        vertical-align: middle;\n",
       "    }\n",
       "\n",
       "    .dataframe tbody tr th {\n",
       "        vertical-align: top;\n",
       "    }\n",
       "\n",
       "    .dataframe thead th {\n",
       "        text-align: right;\n",
       "    }\n",
       "</style>\n",
       "<table border=\"1\" class=\"dataframe\">\n",
       "  <thead>\n",
       "    <tr style=\"text-align: right;\">\n",
       "      <th></th>\n",
       "      <th>accuracy</th>\n",
       "      <th>precision</th>\n",
       "      <th>recall</th>\n",
       "      <th>f1</th>\n",
       "      <th>roc_auc</th>\n",
       "    </tr>\n",
       "  </thead>\n",
       "  <tbody>\n",
       "    <tr>\n",
       "      <th>Train</th>\n",
       "      <td>1.0000</td>\n",
       "      <td>1.0000</td>\n",
       "      <td>1.0000</td>\n",
       "      <td>1.0000</td>\n",
       "      <td>1.0000</td>\n",
       "    </tr>\n",
       "    <tr>\n",
       "      <th>Test</th>\n",
       "      <td>0.9759</td>\n",
       "      <td>0.9758</td>\n",
       "      <td>0.9758</td>\n",
       "      <td>0.9758</td>\n",
       "      <td>0.9759</td>\n",
       "    </tr>\n",
       "  </tbody>\n",
       "</table>\n",
       "</div>"
      ],
      "text/plain": [
       "       accuracy  precision  recall      f1  roc_auc\n",
       "Train    1.0000     1.0000  1.0000  1.0000   1.0000\n",
       "Test     0.9759     0.9758  0.9758  0.9758   0.9759"
      ]
     },
     "metadata": {},
     "output_type": "display_data"
    },
    {
     "data": {
      "image/png": "[encoded data removed]",
      "text/plain": [
       "<Figure size 1152x504 with 2 Axes>"
      ]
     },
     "metadata": {
      "needs_background": "light"
     },
     "output_type": "display_data"
    }
   ],
   "source": [
    "print(\"Random Forest\")\n",
    "# Perform hyperparameter tuning for RandomForest\n",
    "best_params_rf, train_metrics_rf, test_metrics_rf, elapsed_total_rf = perform_randomized_search(clf_rf, param_grid_rf, X_train, y_train, X_test, y_test)\n",
    "\n",
    "# Fit the model with the best hyperparameters\n",
    "clf_rf_best = RandomForestClassifier(**best_params_rf)\n",
    "clf_rf_best.fit(X_train, y_train)\n",
    "\n",
    "# Obtain predictions\n",
    "train_predictions_rf = clf_rf_best.predict(X_train)\n",
    "test_predictions_rf = clf_rf_best.predict(X_test)\n",
    "\n",
    "# Store results \n",
    "rf_results = {\n",
    "    'best_params': best_params_rf,\n",
    "    'train_metrics': train_metrics_rf,\n",
    "    'test_metrics': test_metrics_rf,\n",
    "    'elapsed_total': elapsed_total_rf,\n",
    "    'test_predictions': test_predictions_rf,\n",
    "}\n",
    "\n",
    "# Displaying the model metrics\n",
    "print(\"Best Parameters:\", best_params_rf)\n",
    "display_metrics('Random Forest', train_metrics_rf, test_metrics_rf)\n",
    "\n",
    "# Plot confusion matrix using the adjusted function that plots both train and test data side by side\n",
    "plot_confusion_matrix_side_by_side('Random Forest', y_train, train_predictions_rf, y_test, test_predictions_rf)"
   ]
  },
  {
   "cell_type": "markdown",
   "id": "7b552f27",
   "metadata": {
    "papermill": {
     "duration": 0.029816,
     "end_time": "2024-03-25T19:36:46.356256",
     "exception": false,
     "start_time": "2024-03-25T19:36:46.326440",
     "status": "completed"
    },
    "tags": []
   },
   "source": [
    "# SVC"
   ]
  },
  {
   "cell_type": "code",
   "execution_count": 19,
   "id": "0e1d7774",
   "metadata": {
    "execution": {
     "iopub.execute_input": "2024-03-25T19:36:46.419730Z",
     "iopub.status.busy": "2024-03-25T19:36:46.418714Z",
     "iopub.status.idle": "2024-03-25T20:24:24.117905Z",
     "shell.execute_reply": "2024-03-25T20:24:24.115553Z"
    },
    "papermill": {
     "duration": 2857.735847,
     "end_time": "2024-03-25T20:24:24.122101",
     "exception": false,
     "start_time": "2024-03-25T19:36:46.386254",
     "status": "completed"
    },
    "tags": []
   },
   "outputs": [
    {
     "name": "stdout",
     "output_type": "stream",
     "text": [
      "SVC\n",
      "Starting hyperparameter search...\n",
      "Fitting 3 folds for each of 10 candidates, totalling 30 fits\n",
      "[CV] END ...............................C=0.0001, penalty=l1; total time=   0.0s\n",
      "[CV] END ...............................C=0.0001, penalty=l2; total time=   0.5s\n",
      "[CV] END ................C=0.0005623413251903491, penalty=l2; total time=   1.1s\n",
      "[CV] END ................C=0.0005623413251903491, penalty=l2; total time=   1.1s\n",
      "[CV] END ...................C=3.1622776601683795, penalty=l2; total time=   4.4s\n",
      "[CV] END ....................C=17.78279410038923, penalty=l2; total time=   2.8s\n",
      "[CV] END ................C=0.0005623413251903491, penalty=l1; total time=   0.0s\n",
      "[CV] END ................C=0.0005623413251903491, penalty=l1; total time=   0.0s\n",
      "[CV] END ................C=0.0005623413251903491, penalty=l1; total time=   0.0s\n",
      "[CV] END max_features=log2, min_samples_leaf=5, n_estimators=1000; total time=  46.4s\n",
      "[CV] END max_features=sqrt, min_samples_leaf=5, n_estimators=500; total time=  23.8s\n",
      "[CV] END max_features=sqrt, min_samples_leaf=3, n_estimators=100; total time=   4.8s\n",
      "[CV] END max_features=sqrt, min_samples_leaf=5, n_estimators=1000; total time=  41.8s\n",
      "[CV] END ............................C=0.0001, kernel=linear; total time=  11.8s\n",
      "[CV] END ...............................C=0.0001, kernel=rbf; total time=  26.9s\n",
      "[CV] END ...............................C=0.1, kernel=linear; total time= 4.3min\n",
      "[CV] END ....................C=17.78279410038923, kernel=rbf; total time=  10.5s\n",
      "[CV] END ....................C=17.78279410038923, kernel=rbf; total time=  11.1s\n",
      "[CV] END ....................C=17.78279410038923, kernel=rbf; total time=  10.6s\n",
      "[CV] END ...................C=0.5623413251903491, kernel=rbf; total time=  11.1s\n",
      "[CV] END ...................C=0.5623413251903491, kernel=rbf; total time=  11.7s\n",
      "[CV] END ...................C=0.5623413251903491, kernel=rbf; total time=  11.7s\n",
      "[CV] END .............C=0.0005623413251903491, kernel=linear; total time=  18.5s\n",
      "[CV] END .............C=0.0005623413251903491, kernel=linear; total time=  16.8s\n",
      "[CV] END .............C=0.0005623413251903491, kernel=linear; total time=  17.8s\n",
      "[CV] END ...............................C=0.0001, penalty=l1; total time=   0.0s\n",
      "[CV] END ..................................C=0.1, penalty=l1; total time=   0.0s\n",
      "[CV] END ..................................C=0.1, penalty=l1; total time=   0.0s\n",
      "[CV] END ..................................C=0.1, penalty=l1; total time=   0.0s\n",
      "[CV] END ................C=0.0031622776601683794, penalty=l2; total time=   1.7s\n",
      "[CV] END ...................C=3.1622776601683795, penalty=l2; total time=   3.8s\n",
      "[CV] END ....................C=17.78279410038923, penalty=l2; total time=   4.2s\n",
      "[CV] END ...................C=0.5623413251903491, penalty=l2; total time=   2.0s\n",
      "[CV] END max_features=sqrt, min_samples_leaf=5, n_estimators=50; total time=   2.4s\n",
      "[CV] END max_features=sqrt, min_samples_leaf=5, n_estimators=50; total time=   2.4s\n",
      "[CV] END max_features=sqrt, min_samples_leaf=5, n_estimators=50; total time=   2.3s\n",
      "[CV] END max_features=log2, min_samples_leaf=3, n_estimators=100; total time=   4.7s\n",
      "[CV] END max_features=log2, min_samples_leaf=3, n_estimators=100; total time=   4.9s\n",
      "[CV] END max_features=log2, min_samples_leaf=3, n_estimators=100; total time=   5.5s\n",
      "[CV] END max_features=log2, min_samples_leaf=5, n_estimators=10; total time=   0.5s\n",
      "[CV] END max_features=log2, min_samples_leaf=5, n_estimators=10; total time=   0.5s\n",
      "[CV] END max_features=log2, min_samples_leaf=5, n_estimators=10; total time=   0.5s\n",
      "[CV] END max_features=sqrt, min_samples_leaf=5, n_estimators=500; total time=  23.3s\n",
      "[CV] END max_features=sqrt, min_samples_leaf=5, n_estimators=500; total time=  24.1s\n",
      "[CV] END max_features=sqrt, min_samples_leaf=3, n_estimators=100; total time=   4.8s\n",
      "[CV] END ............................C=0.0001, kernel=linear; total time=  11.6s\n",
      "[CV] END ...............................C=0.0001, kernel=rbf; total time=  27.3s\n",
      "[CV] END ................C=0.0031622776601683794, kernel=rbf; total time=  22.5s\n",
      "[CV] END ................C=0.0031622776601683794, kernel=rbf; total time=  21.5s\n",
      "[CV] END ................C=0.0031622776601683794, kernel=rbf; total time=  22.2s\n",
      "[CV] END ................C=0.0005623413251903491, kernel=rbf; total time=  26.8s\n",
      "[CV] END ................C=0.0005623413251903491, kernel=rbf; total time=  27.4s\n",
      "[CV] END ................C=0.0005623413251903491, kernel=rbf; total time=  27.4s\n",
      "[CV] END ...................C=3.1622776601683795, kernel=rbf; total time=  10.7s\n",
      "[CV] END ...................C=3.1622776601683795, kernel=rbf; total time=  11.0s\n",
      "[CV] END ...................C=3.1622776601683795, kernel=rbf; total time=  11.3s\n",
      "[CV] END .............................C=100.0, kernel=linear; total time=35.7min\n",
      "[CV] END ...............................C=0.0001, penalty=l2; total time=   0.5s\n",
      "[CV] END ................C=0.0031622776601683794, penalty=l2; total time=   2.1s\n",
      "[CV] END ...................C=3.1622776601683795, penalty=l2; total time=   4.8s\n",
      "[CV] END ...................C=0.5623413251903491, penalty=l2; total time=   3.2s\n",
      "[CV] END max_features=log2, min_samples_leaf=5, n_estimators=1000; total time=  47.2s\n",
      "[CV] END max_features=log2, min_samples_leaf=5, n_estimators=50; total time=   2.3s\n",
      "[CV] END max_features=log2, min_samples_leaf=5, n_estimators=50; total time=   2.5s\n",
      "[CV] END max_features=log2, min_samples_leaf=1, n_estimators=250; total time=  13.5s\n",
      "[CV] END max_features=sqrt, min_samples_leaf=5, n_estimators=10; total time=   0.5s\n",
      "[CV] END max_features=sqrt, min_samples_leaf=5, n_estimators=10; total time=   0.5s\n",
      "[CV] END max_features=sqrt, min_samples_leaf=5, n_estimators=10; total time=   0.5s\n",
      "[CV] END max_features=sqrt, min_samples_leaf=3, n_estimators=100; total time=   4.7s\n",
      "[CV] END max_features=sqrt, min_samples_leaf=5, n_estimators=1000; total time=  41.4s\n",
      "[CV] END ............................C=0.0001, kernel=linear; total time=  11.8s\n",
      "[CV] END ...............................C=0.1, kernel=linear; total time= 4.3min\n",
      "[CV] END .............................C=100.0, kernel=linear; total time=35.6min\n",
      "Searching...\n",
      "Best Parameters: {'kernel': 'rbf', 'C': 17.78279410038923}\n",
      "\n",
      "====================\n",
      "SVC\n",
      "====================\n",
      "\n"
     ]
    },
    {
     "data": {
      "text/html": [
       "<div>\n",
       "<style scoped>\n",
       "    .dataframe tbody tr th:only-of-type {\n",
       "        vertical-align: middle;\n",
       "    }\n",
       "\n",
       "    .dataframe tbody tr th {\n",
       "        vertical-align: top;\n",
       "    }\n",
       "\n",
       "    .dataframe thead th {\n",
       "        text-align: right;\n",
       "    }\n",
       "</style>\n",
       "<table border=\"1\" class=\"dataframe\">\n",
       "  <thead>\n",
       "    <tr style=\"text-align: right;\">\n",
       "      <th></th>\n",
       "      <th>accuracy</th>\n",
       "      <th>precision</th>\n",
       "      <th>recall</th>\n",
       "      <th>f1</th>\n",
       "      <th>roc_auc</th>\n",
       "    </tr>\n",
       "  </thead>\n",
       "  <tbody>\n",
       "    <tr>\n",
       "      <th>Train</th>\n",
       "      <td>0.8807</td>\n",
       "      <td>0.9337</td>\n",
       "      <td>0.8198</td>\n",
       "      <td>0.8730</td>\n",
       "      <td>0.8807</td>\n",
       "    </tr>\n",
       "    <tr>\n",
       "      <th>Test</th>\n",
       "      <td>0.8827</td>\n",
       "      <td>0.9297</td>\n",
       "      <td>0.8271</td>\n",
       "      <td>0.8754</td>\n",
       "      <td>0.8825</td>\n",
       "    </tr>\n",
       "  </tbody>\n",
       "</table>\n",
       "</div>"
      ],
      "text/plain": [
       "       accuracy  precision  recall      f1  roc_auc\n",
       "Train    0.8807     0.9337  0.8198  0.8730   0.8807\n",
       "Test     0.8827     0.9297  0.8271  0.8754   0.8825"
      ]
     },
     "metadata": {},
     "output_type": "display_data"
    },
    {
     "data": {
      "image/png": "[encoded data removed]",
      "text/plain": [
       "<Figure size 1152x504 with 2 Axes>"
      ]
     },
     "metadata": {
      "needs_background": "light"
     },
     "output_type": "display_data"
    }
   ],
   "source": [
    "print(\"SVC\")\n",
    "# Perform hyperparameter tuning for RandomForest\n",
    "best_params_svc, train_metrics_svc, test_metrics_svc, elapsed_total_svc = perform_randomized_search(clf_svc, param_grid_svc, X_train, y_train, X_test, y_test)\n",
    "\n",
    "# Fit the model with the best hyperparameters\n",
    "clf_svc_best = SVC(**best_params_svc)\n",
    "clf_svc_best.fit(X_train, y_train)\n",
    "\n",
    "# Obtain predictions\n",
    "train_predictions_svc = clf_svc_best.predict(X_train)\n",
    "test_predictions_svc = clf_svc_best.predict(X_test)\n",
    "\n",
    "# Store results \n",
    "svc_results = {\n",
    "    'best_params': best_params_svc,\n",
    "    'train_metrics': train_metrics_svc,\n",
    "    'test_metrics': test_metrics_svc,\n",
    "    'elapsed_total': elapsed_total_svc,\n",
    "    'test_predictions': test_predictions_svc,\n",
    "}\n",
    "\n",
    "# Displaying the model metrics\n",
    "print(\"Best Parameters:\", best_params_svc)\n",
    "display_metrics('SVC', train_metrics_svc, test_metrics_svc)\n",
    "\n",
    "# Plot confusion matrix using the adjusted function that plots both train and test data side by side\n",
    "plot_confusion_matrix_side_by_side('SVC', y_train, train_predictions_svc, y_test, test_predictions_svc)"
   ]
  },
  {
   "cell_type": "markdown",
   "id": "6e1c3013",
   "metadata": {
    "papermill": {
     "duration": 0.033847,
     "end_time": "2024-03-25T20:24:24.189912",
     "exception": false,
     "start_time": "2024-03-25T20:24:24.156065",
     "status": "completed"
    },
    "tags": []
   },
   "source": [
    "# ElasticNet"
   ]
  },
  {
   "cell_type": "code",
   "execution_count": 20,
   "id": "a3829f35",
   "metadata": {
    "execution": {
     "iopub.execute_input": "2024-03-25T20:24:24.262691Z",
     "iopub.status.busy": "2024-03-25T20:24:24.261708Z",
     "iopub.status.idle": "2024-03-25T20:33:19.413548Z",
     "shell.execute_reply": "2024-03-25T20:33:19.411543Z"
    },
    "papermill": {
     "duration": 535.192452,
     "end_time": "2024-03-25T20:33:19.416793",
     "exception": false,
     "start_time": "2024-03-25T20:24:24.224341",
     "status": "completed"
    },
    "tags": []
   },
   "outputs": [
    {
     "name": "stdout",
     "output_type": "stream",
     "text": [
      "ElasticNet\n",
      "Starting hyperparameter search...\n",
      "Fitting 3 folds for each of 10 candidates, totalling 30 fits\n",
      "Searching...\n",
      "Best Parameters: {'l1_ratio': 0.8, 'C': 17.78279410038923}\n",
      "\n",
      "====================\n",
      "ElasticNet\n",
      "====================\n",
      "\n"
     ]
    },
    {
     "data": {
      "text/html": [
       "<div>\n",
       "<style scoped>\n",
       "    .dataframe tbody tr th:only-of-type {\n",
       "        vertical-align: middle;\n",
       "    }\n",
       "\n",
       "    .dataframe tbody tr th {\n",
       "        vertical-align: top;\n",
       "    }\n",
       "\n",
       "    .dataframe thead th {\n",
       "        text-align: right;\n",
       "    }\n",
       "</style>\n",
       "<table border=\"1\" class=\"dataframe\">\n",
       "  <thead>\n",
       "    <tr style=\"text-align: right;\">\n",
       "      <th></th>\n",
       "      <th>accuracy</th>\n",
       "      <th>precision</th>\n",
       "      <th>recall</th>\n",
       "      <th>f1</th>\n",
       "      <th>roc_auc</th>\n",
       "    </tr>\n",
       "  </thead>\n",
       "  <tbody>\n",
       "    <tr>\n",
       "      <th>Train</th>\n",
       "      <td>0.8549</td>\n",
       "      <td>0.9136</td>\n",
       "      <td>0.7843</td>\n",
       "      <td>0.8440</td>\n",
       "      <td>0.8550</td>\n",
       "    </tr>\n",
       "    <tr>\n",
       "      <th>Test</th>\n",
       "      <td>0.8626</td>\n",
       "      <td>0.9175</td>\n",
       "      <td>0.7958</td>\n",
       "      <td>0.8524</td>\n",
       "      <td>0.8624</td>\n",
       "    </tr>\n",
       "  </tbody>\n",
       "</table>\n",
       "</div>"
      ],
      "text/plain": [
       "       accuracy  precision  recall      f1  roc_auc\n",
       "Train    0.8549     0.9136  0.7843  0.8440   0.8550\n",
       "Test     0.8626     0.9175  0.7958  0.8524   0.8624"
      ]
     },
     "metadata": {},
     "output_type": "display_data"
    },
    {
     "data": {
      "image/png": "[encoded data removed]",
      "text/plain": [
       "<Figure size 1152x504 with 2 Axes>"
      ]
     },
     "metadata": {
      "needs_background": "light"
     },
     "output_type": "display_data"
    }
   ],
   "source": [
    "print(\"ElasticNet\")\n",
    "# Perform hyperparameter tuning for ElasticNet\n",
    "best_params_en, train_metrics_en, test_metrics_en, elapsed_total_en = perform_randomized_search(clf_en, param_grid_en, X_train, y_train, X_test, y_test)\n",
    "\n",
    "# Fit the model with the best hyperparameters\n",
    "clf_en_best = LogisticRegression(penalty='elasticnet', solver='saga', max_iter=10000, **best_params_en)\n",
    "clf_en_best.fit(X_train, y_train)\n",
    "\n",
    "# Obtain predictions\n",
    "train_predictions_en = clf_en_best.predict(X_train)\n",
    "test_predictions_en = clf_en_best.predict(X_test)\n",
    "\n",
    "# Store results \n",
    "en_results = {\n",
    "    'best_params': best_params_en,\n",
    "    'train_metrics': train_metrics_en,\n",
    "    'test_metrics': test_metrics_en,\n",
    "    'elapsed_total': elapsed_total_en,\n",
    "    'test_predictions': test_predictions_en\n",
    "}\n",
    "\n",
    "# Displaying the model metrics\n",
    "print(\"Best Parameters:\", best_params_en)\n",
    "display_metrics('ElasticNet', train_metrics_en, test_metrics_en)\n",
    "\n",
    "# Plot confusion matrix using the adjusted function that plots both train and test data side by side\n",
    "plot_confusion_matrix_side_by_side('ElasticNet', y_train, train_predictions_en, y_test, test_predictions_en)"
   ]
  },
  {
   "cell_type": "markdown",
   "id": "1d05aef8",
   "metadata": {
    "papermill": {
     "duration": 0.035645,
     "end_time": "2024-03-25T20:33:19.589452",
     "exception": false,
     "start_time": "2024-03-25T20:33:19.553807",
     "status": "completed"
    },
    "tags": []
   },
   "source": [
    "# GradientBoost"
   ]
  },
  {
   "cell_type": "code",
   "execution_count": 21,
   "id": "3ab200cc",
   "metadata": {
    "execution": {
     "iopub.execute_input": "2024-03-25T20:33:19.663712Z",
     "iopub.status.busy": "2024-03-25T20:33:19.663158Z",
     "iopub.status.idle": "2024-03-25T20:37:45.520746Z",
     "shell.execute_reply": "2024-03-25T20:37:45.518965Z"
    },
    "papermill": {
     "duration": 265.898554,
     "end_time": "2024-03-25T20:37:45.523935",
     "exception": false,
     "start_time": "2024-03-25T20:33:19.625381",
     "status": "completed"
    },
    "tags": []
   },
   "outputs": [
    {
     "name": "stdout",
     "output_type": "stream",
     "text": [
      "Gradient Boosting Classifier\n",
      "Starting hyperparameter search...\n",
      "Fitting 3 folds for each of 10 candidates, totalling 30 fits\n",
      "Searching...\n",
      "Best Parameters: {'n_estimators': 200, 'max_depth': 7, 'learning_rate': 0.1}\n",
      "\n",
      "====================\n",
      "Gradient Boost\n",
      "====================\n",
      "\n"
     ]
    },
    {
     "data": {
      "text/html": [
       "<div>\n",
       "<style scoped>\n",
       "    .dataframe tbody tr th:only-of-type {\n",
       "        vertical-align: middle;\n",
       "    }\n",
       "\n",
       "    .dataframe tbody tr th {\n",
       "        vertical-align: top;\n",
       "    }\n",
       "\n",
       "    .dataframe thead th {\n",
       "        text-align: right;\n",
       "    }\n",
       "</style>\n",
       "<table border=\"1\" class=\"dataframe\">\n",
       "  <thead>\n",
       "    <tr style=\"text-align: right;\">\n",
       "      <th></th>\n",
       "      <th>accuracy</th>\n",
       "      <th>precision</th>\n",
       "      <th>recall</th>\n",
       "      <th>f1</th>\n",
       "      <th>roc_auc</th>\n",
       "    </tr>\n",
       "  </thead>\n",
       "  <tbody>\n",
       "    <tr>\n",
       "      <th>Train</th>\n",
       "      <td>1.0000</td>\n",
       "      <td>1.000</td>\n",
       "      <td>1.0000</td>\n",
       "      <td>1.0000</td>\n",
       "      <td>1.0000</td>\n",
       "    </tr>\n",
       "    <tr>\n",
       "      <th>Test</th>\n",
       "      <td>0.9809</td>\n",
       "      <td>0.981</td>\n",
       "      <td>0.9806</td>\n",
       "      <td>0.9808</td>\n",
       "      <td>0.9809</td>\n",
       "    </tr>\n",
       "  </tbody>\n",
       "</table>\n",
       "</div>"
      ],
      "text/plain": [
       "       accuracy  precision  recall      f1  roc_auc\n",
       "Train    1.0000      1.000  1.0000  1.0000   1.0000\n",
       "Test     0.9809      0.981  0.9806  0.9808   0.9809"
      ]
     },
     "metadata": {},
     "output_type": "display_data"
    },
    {
     "data": {
      "image/png": "[encoded data removed]",
      "text/plain": [
       "<Figure size 1152x504 with 2 Axes>"
      ]
     },
     "metadata": {
      "needs_background": "light"
     },
     "output_type": "display_data"
    }
   ],
   "source": [
    "print(\"Gradient Boosting Classifier\")\n",
    "# Perform hyperparameter tuning for GBoost\n",
    "best_params_gb, train_metrics_gb, test_metrics_gb, elapsed_total_gb = perform_randomized_search(clf_gb, param_grid_gb, X_train, y_train, X_test, y_test)\n",
    "\n",
    "# Fit the model with the best hyperparameters\n",
    "clf_gb_best = GradientBoostingClassifier(**best_params_gb)\n",
    "clf_gb_best.fit(X_train, y_train)\n",
    "\n",
    "# Obtain predictions\n",
    "train_predictions_gb = clf_gb_best.predict(X_train)\n",
    "test_predictions_gb = clf_gb_best.predict(X_test)\n",
    "\n",
    "# Store results \n",
    "gb_results = {\n",
    "    'best_params': best_params_gb,\n",
    "    'train_metrics': train_metrics_gb,\n",
    "    'test_metrics': test_metrics_gb,\n",
    "    'elapsed_total': elapsed_total_gb,\n",
    "    'test_predictions': test_predictions_gb\n",
    "}\n",
    "\n",
    "# Displaying the model metrics\n",
    "print(\"Best Parameters:\", best_params_gb)\n",
    "display_metrics('Gradient Boost', train_metrics_gb, test_metrics_gb)\n",
    "\n",
    "# Plot confusion matrix using the adjusted function that plots both train and test data side by side\n",
    "plot_confusion_matrix_side_by_side('Gradient Boost', y_train, train_predictions_gb, y_test, test_predictions_gb)"
   ]
  },
  {
   "cell_type": "markdown",
   "id": "c6e22ea9",
   "metadata": {
    "papermill": {
     "duration": 0.038314,
     "end_time": "2024-03-25T20:37:45.601435",
     "exception": false,
     "start_time": "2024-03-25T20:37:45.563121",
     "status": "completed"
    },
    "tags": []
   },
   "source": [
    "# AdaBoost"
   ]
  },
  {
   "cell_type": "code",
   "execution_count": 22,
   "id": "c775680c",
   "metadata": {
    "execution": {
     "iopub.execute_input": "2024-03-25T20:37:45.680685Z",
     "iopub.status.busy": "2024-03-25T20:37:45.680202Z",
     "iopub.status.idle": "2024-03-25T20:39:01.954196Z",
     "shell.execute_reply": "2024-03-25T20:39:01.953078Z"
    },
    "papermill": {
     "duration": 76.317327,
     "end_time": "2024-03-25T20:39:01.957127",
     "exception": false,
     "start_time": "2024-03-25T20:37:45.639800",
     "status": "completed"
    },
    "tags": []
   },
   "outputs": [
    {
     "name": "stdout",
     "output_type": "stream",
     "text": [
      "AdaBoost Classifier\n",
      "Starting hyperparameter search...\n",
      "Fitting 3 folds for each of 9 candidates, totalling 27 fits\n",
      "Searching...\n",
      "Best Parameters: {'n_estimators': 200, 'learning_rate': 1.0}\n",
      "\n",
      "====================\n",
      "Ada Boost\n",
      "====================\n",
      "\n"
     ]
    },
    {
     "data": {
      "text/html": [
       "<div>\n",
       "<style scoped>\n",
       "    .dataframe tbody tr th:only-of-type {\n",
       "        vertical-align: middle;\n",
       "    }\n",
       "\n",
       "    .dataframe tbody tr th {\n",
       "        vertical-align: top;\n",
       "    }\n",
       "\n",
       "    .dataframe thead th {\n",
       "        text-align: right;\n",
       "    }\n",
       "</style>\n",
       "<table border=\"1\" class=\"dataframe\">\n",
       "  <thead>\n",
       "    <tr style=\"text-align: right;\">\n",
       "      <th></th>\n",
       "      <th>accuracy</th>\n",
       "      <th>precision</th>\n",
       "      <th>recall</th>\n",
       "      <th>f1</th>\n",
       "      <th>roc_auc</th>\n",
       "    </tr>\n",
       "  </thead>\n",
       "  <tbody>\n",
       "    <tr>\n",
       "      <th>Train</th>\n",
       "      <td>0.9544</td>\n",
       "      <td>0.9566</td>\n",
       "      <td>0.9520</td>\n",
       "      <td>0.9543</td>\n",
       "      <td>0.9544</td>\n",
       "    </tr>\n",
       "    <tr>\n",
       "      <th>Test</th>\n",
       "      <td>0.9469</td>\n",
       "      <td>0.9499</td>\n",
       "      <td>0.9432</td>\n",
       "      <td>0.9465</td>\n",
       "      <td>0.9469</td>\n",
       "    </tr>\n",
       "  </tbody>\n",
       "</table>\n",
       "</div>"
      ],
      "text/plain": [
       "       accuracy  precision  recall      f1  roc_auc\n",
       "Train    0.9544     0.9566  0.9520  0.9543   0.9544\n",
       "Test     0.9469     0.9499  0.9432  0.9465   0.9469"
      ]
     },
     "metadata": {},
     "output_type": "display_data"
    },
    {
     "data": {
      "image/png": "[encoded data removed]",
      "text/plain": [
       "<Figure size 1152x504 with 2 Axes>"
      ]
     },
     "metadata": {
      "needs_background": "light"
     },
     "output_type": "display_data"
    }
   ],
   "source": [
    "print(\"AdaBoost Classifier\")\n",
    "# Perform hyperparameter tuning for AdaBoost\n",
    "best_params_ada, train_metrics_ada, test_metrics_ada, elapsed_total_ada = perform_randomized_search(clf_ada, param_grid_ada, X_train, y_train, X_test, y_test)\n",
    "\n",
    "# Fit the model with the best hyperparameters\n",
    "clf_ada_best = AdaBoostClassifier(**best_params_ada)\n",
    "clf_ada_best.fit(X_train, y_train)\n",
    "\n",
    "# Obtain predictions\n",
    "train_predictions_ada = clf_ada_best.predict(X_train)\n",
    "test_predictions_ada = clf_ada_best.predict(X_test)\n",
    "\n",
    "# Store results \n",
    "ada_results = {\n",
    "    'best_params': best_params_ada,\n",
    "    'train_metrics': train_metrics_ada,\n",
    "    'test_metrics': test_metrics_ada,\n",
    "    'elapsed_total': elapsed_total_ada,\n",
    "    'test_predictions': test_predictions_ada\n",
    "}\n",
    "\n",
    "# Displaying the model metrics\n",
    "print(\"Best Parameters:\", best_params_ada)\n",
    "display_metrics('Ada Boost', train_metrics_ada, test_metrics_ada)\n",
    "\n",
    "# Plot confusion matrix using the adjusted function that plots both train and test data side by side\n",
    "plot_confusion_matrix_side_by_side('Ada Boost', y_train, train_predictions_ada, y_test, test_predictions_ada)"
   ]
  },
  {
   "cell_type": "markdown",
   "id": "1803542e",
   "metadata": {
    "papermill": {
     "duration": 0.041696,
     "end_time": "2024-03-25T20:39:02.042851",
     "exception": false,
     "start_time": "2024-03-25T20:39:02.001155",
     "status": "completed"
    },
    "tags": []
   },
   "source": [
    "# XGBoost"
   ]
  },
  {
   "cell_type": "code",
   "execution_count": 23,
   "id": "53810f19",
   "metadata": {
    "execution": {
     "iopub.execute_input": "2024-03-25T20:39:02.123837Z",
     "iopub.status.busy": "2024-03-25T20:39:02.123369Z",
     "iopub.status.idle": "2024-03-25T20:40:37.029227Z",
     "shell.execute_reply": "2024-03-25T20:40:37.027726Z"
    },
    "papermill": {
     "duration": 94.949965,
     "end_time": "2024-03-25T20:40:37.032647",
     "exception": false,
     "start_time": "2024-03-25T20:39:02.082682",
     "status": "completed"
    },
    "tags": []
   },
   "outputs": [
    {
     "name": "stdout",
     "output_type": "stream",
     "text": [
      "XGBoost Classifier\n",
      "Starting hyperparameter search...\n",
      "Fitting 3 folds for each of 10 candidates, totalling 30 fits\n",
      "Searching...\n",
      "Best Parameters: {'n_estimators': 200, 'max_depth': 7, 'learning_rate': 0.1}\n",
      "\n",
      "====================\n",
      "XGBoost\n",
      "====================\n",
      "\n"
     ]
    },
    {
     "data": {
      "text/html": [
       "<div>\n",
       "<style scoped>\n",
       "    .dataframe tbody tr th:only-of-type {\n",
       "        vertical-align: middle;\n",
       "    }\n",
       "\n",
       "    .dataframe tbody tr th {\n",
       "        vertical-align: top;\n",
       "    }\n",
       "\n",
       "    .dataframe thead th {\n",
       "        text-align: right;\n",
       "    }\n",
       "</style>\n",
       "<table border=\"1\" class=\"dataframe\">\n",
       "  <thead>\n",
       "    <tr style=\"text-align: right;\">\n",
       "      <th></th>\n",
       "      <th>accuracy</th>\n",
       "      <th>precision</th>\n",
       "      <th>recall</th>\n",
       "      <th>f1</th>\n",
       "      <th>roc_auc</th>\n",
       "    </tr>\n",
       "  </thead>\n",
       "  <tbody>\n",
       "    <tr>\n",
       "      <th>Train</th>\n",
       "      <td>1.0000</td>\n",
       "      <td>1.0000</td>\n",
       "      <td>1.0000</td>\n",
       "      <td>1.0000</td>\n",
       "      <td>1.0000</td>\n",
       "    </tr>\n",
       "    <tr>\n",
       "      <th>Test</th>\n",
       "      <td>0.9806</td>\n",
       "      <td>0.9815</td>\n",
       "      <td>0.9796</td>\n",
       "      <td>0.9806</td>\n",
       "      <td>0.9806</td>\n",
       "    </tr>\n",
       "  </tbody>\n",
       "</table>\n",
       "</div>"
      ],
      "text/plain": [
       "       accuracy  precision  recall      f1  roc_auc\n",
       "Train    1.0000     1.0000  1.0000  1.0000   1.0000\n",
       "Test     0.9806     0.9815  0.9796  0.9806   0.9806"
      ]
     },
     "metadata": {},
     "output_type": "display_data"
    },
    {
     "data": {
      "image/png": "[encoded data removed]",
      "text/plain": [
       "<Figure size 1152x504 with 2 Axes>"
      ]
     },
     "metadata": {
      "needs_background": "light"
     },
     "output_type": "display_data"
    }
   ],
   "source": [
    "print(\"XGBoost Classifier\")\n",
    "# Perform hyperparameter tuning for XGBoost\n",
    "best_params_xgb, train_metrics_xgb, test_metrics_xgb, elapsed_total_xgb = perform_randomized_search(clf_xgb, param_grid_xgb, X_train, y_train, X_test, y_test)\n",
    "\n",
    "# Fit the model with the best hyperparameters\n",
    "clf_xgb_best = XGBClassifier(**best_params_xgb)\n",
    "clf_xgb_best.fit(X_train, y_train)\n",
    "\n",
    "# Obtain predictions\n",
    "train_predictions_xgb = clf_xgb_best.predict(X_train)\n",
    "test_predictions_xgb = clf_xgb_best.predict(X_test)\n",
    "\n",
    "# Store results \n",
    "xgb_results = {\n",
    "    'best_params': best_params_xgb,\n",
    "    'train_metrics': train_metrics_xgb,\n",
    "    'test_metrics': test_metrics_xgb,\n",
    "    'elapsed_total': elapsed_total_xgb,\n",
    "    'test_predictions': test_predictions_xgb\n",
    "}\n",
    "\n",
    "# Displaying the model metrics\n",
    "print(\"Best Parameters:\", best_params_xgb)\n",
    "display_metrics('XGBoost', train_metrics_xgb, test_metrics_xgb)\n",
    "\n",
    "# Plot confusion matrix using the adjusted function that plots both train and test data side by side\n",
    "plot_confusion_matrix_side_by_side('XGBoost', y_train, train_predictions_xgb, y_test, test_predictions_xgb)"
   ]
  },
  {
   "cell_type": "markdown",
   "id": "6931ebb5",
   "metadata": {
    "papermill": {
     "duration": 0.040657,
     "end_time": "2024-03-25T20:40:37.115125",
     "exception": false,
     "start_time": "2024-03-25T20:40:37.074468",
     "status": "completed"
    },
    "tags": []
   },
   "source": [
    "# Bar Graph of Model Performance"
   ]
  },
  {
   "cell_type": "code",
   "execution_count": 24,
   "id": "60fa9d46",
   "metadata": {
    "execution": {
     "iopub.execute_input": "2024-03-25T20:40:37.200385Z",
     "iopub.status.busy": "2024-03-25T20:40:37.199843Z",
     "iopub.status.idle": "2024-03-25T20:40:37.207168Z",
     "shell.execute_reply": "2024-03-25T20:40:37.205837Z"
    },
    "papermill": {
     "duration": 0.053628,
     "end_time": "2024-03-25T20:40:37.209773",
     "exception": false,
     "start_time": "2024-03-25T20:40:37.156145",
     "status": "completed"
    },
    "tags": []
   },
   "outputs": [],
   "source": [
    "# Define model names and their corresponding results\n",
    "models = ['LR', 'RF', 'SVC', 'EN', 'ADA', 'GB', 'XGB']\n",
    "results = [lr_results, rf_results, svc_results, en_results, ada_results, gb_results, xgb_results]"
   ]
  },
  {
   "cell_type": "code",
   "execution_count": 25,
   "id": "1ad0d731",
   "metadata": {
    "execution": {
     "iopub.execute_input": "2024-03-25T20:40:37.294499Z",
     "iopub.status.busy": "2024-03-25T20:40:37.293956Z",
     "iopub.status.idle": "2024-03-25T20:40:37.674383Z",
     "shell.execute_reply": "2024-03-25T20:40:37.672621Z"
    },
    "papermill": {
     "duration": 0.427209,
     "end_time": "2024-03-25T20:40:37.677764",
     "exception": false,
     "start_time": "2024-03-25T20:40:37.250555",
     "status": "completed"
    },
    "tags": []
   },
   "outputs": [
    {
     "data": {
      "image/png": "[encoded data removed]",
      "text/plain": [
       "<Figure size 864x576 with 1 Axes>"
      ]
     },
     "metadata": {
      "needs_background": "light"
     },
     "output_type": "display_data"
    }
   ],
   "source": [
    "# Extract test and train accuracy scores for each model\n",
    "test_accuracies = [result['test_metrics']['accuracy'] for result in results]\n",
    "train_accuracies = [result['train_metrics']['accuracy'] for result in results]\n",
    "\n",
    "# Extract test and train recall scores for each model\n",
    "test_recalls = [result['test_metrics']['recall'] for result in results]\n",
    "train_recalls = [result['train_metrics']['recall'] for result in results]\n",
    "\n",
    "\n",
    "# Bar width\n",
    "bar_width = 0.2\n",
    "index = np.arange(len(models))\n",
    "\n",
    "# Plotting\n",
    "plt.figure(figsize=(12, 8))\n",
    "\n",
    "# Plot test accuracy\n",
    "plt.bar(index, test_accuracies, bar_width, color='lightblue', edgecolor='black', hatch='/', label='Test Accuracy')\n",
    "# Plot train accuracy\n",
    "plt.bar(index + bar_width, train_accuracies, bar_width, color='lightgreen', edgecolor='black', hatch='\\\\', label='Train Accuracy')\n",
    "\n",
    "# Plot test recall\n",
    "plt.bar(index + 2*bar_width, test_recalls, bar_width, color='lightcoral', edgecolor='black', hatch='x', label='Test Recall')\n",
    "# Plot train recall\n",
    "plt.bar(index + 3*bar_width, train_recalls, bar_width, color='lightyellow', edgecolor='black', hatch='.', label='Train Recall')\n",
    "\n",
    "plt.xlabel('Model')\n",
    "plt.ylabel('Scores')\n",
    "plt.title('Comparison of Model Performances')\n",
    "plt.xticks(index + 1.5*bar_width, models)\n",
    "plt.legend(bbox_to_anchor=(1, 1), loc='upper left')\n",
    "plt.show()"
   ]
  },
  {
   "cell_type": "markdown",
   "id": "6d007c71",
   "metadata": {
    "papermill": {
     "duration": 0.042696,
     "end_time": "2024-03-25T20:40:37.763127",
     "exception": false,
     "start_time": "2024-03-25T20:40:37.720431",
     "status": "completed"
    },
    "tags": []
   },
   "source": [
    "# ROC Curves of the Models"
   ]
  },
  {
   "cell_type": "code",
   "execution_count": 26,
   "id": "2c7d966b",
   "metadata": {
    "execution": {
     "iopub.execute_input": "2024-03-25T20:40:37.851777Z",
     "iopub.status.busy": "2024-03-25T20:40:37.851252Z",
     "iopub.status.idle": "2024-03-25T20:40:38.228056Z",
     "shell.execute_reply": "2024-03-25T20:40:38.226870Z"
    },
    "papermill": {
     "duration": 0.424852,
     "end_time": "2024-03-25T20:40:38.230984",
     "exception": false,
     "start_time": "2024-03-25T20:40:37.806132",
     "status": "completed"
    },
    "tags": []
   },
   "outputs": [
    {
     "data": {
      "image/png": "[encoded data removed]",
      "text/plain": [
       "<Figure size 720x576 with 1 Axes>"
      ]
     },
     "metadata": {
      "needs_background": "light"
     },
     "output_type": "display_data"
    }
   ],
   "source": [
    "# Plotting ROC curves for each model\n",
    "plt.figure(figsize=(10, 8))\n",
    "\n",
    "for model_name, result in zip(models, results):\n",
    "    # Get the correct test predictions variable for the current model\n",
    "    if 'test_predictions' in result:\n",
    "        test_predictions = result['test_predictions']\n",
    "    elif 'test_metrics' in result and 'predictions' in result['test_metrics']:\n",
    "        test_predictions = result['test_metrics']['predictions']\n",
    "    else:\n",
    "        raise KeyError(f\"Test predictions not found for model: {model_name}\")\n",
    "        \n",
    "    # Compute ROC curve for test data\n",
    "    fpr, tpr, _ = roc_curve(y_test, test_predictions)\n",
    "    \n",
    "    # Plot ROC curve\n",
    "    plt.plot(fpr, tpr, label=f'{model_name} (AUC = {result[\"test_metrics\"][\"roc_auc\"]:.2f})')\n",
    "\n",
    "# Plot ROC curve for random guessing (baseline)\n",
    "plt.plot([0, 1], [0, 1], linestyle='--', color='black', label='Random Guessing')\n",
    "\n",
    "plt.xlabel('False Positive Rate')\n",
    "plt.ylabel('True Positive Rate')\n",
    "plt.title('Receiver Operating Characteristic (ROC) Curve')\n",
    "plt.legend()\n",
    "plt.grid(True)\n",
    "plt.show()\n"
   ]
  },
  {
   "cell_type": "code",
   "execution_count": 27,
   "id": "87aa70d6",
   "metadata": {
    "execution": {
     "iopub.execute_input": "2024-03-25T20:40:38.323898Z",
     "iopub.status.busy": "2024-03-25T20:40:38.322993Z",
     "iopub.status.idle": "2024-03-25T20:40:38.331841Z",
     "shell.execute_reply": "2024-03-25T20:40:38.330309Z"
    },
    "papermill": {
     "duration": 0.059754,
     "end_time": "2024-03-25T20:40:38.335128",
     "exception": false,
     "start_time": "2024-03-25T20:40:38.275374",
     "status": "completed"
    },
    "tags": []
   },
   "outputs": [],
   "source": [
    "# Function to apply different highlighting based on column names\n",
    "def highlight_max_min(col):\n",
    "    if col.name.startswith('Elapsed Total Time (s)'):\n",
    "        max_val = col.max()\n",
    "        min_val = col.min()\n",
    "        return ['background-color: #FFD699' if x == max_val else 'background-color: #ADD8E6' if x == min_val else '' for x in col]\n",
    "    else:\n",
    "        return ['background-color: #B0E57C' if x == col.max() else '' for x in col]"
   ]
  },
  {
   "cell_type": "code",
   "execution_count": 28,
   "id": "103f26ef",
   "metadata": {
    "execution": {
     "iopub.execute_input": "2024-03-25T20:40:38.425428Z",
     "iopub.status.busy": "2024-03-25T20:40:38.424892Z",
     "iopub.status.idle": "2024-03-25T20:40:38.458529Z",
     "shell.execute_reply": "2024-03-25T20:40:38.457117Z"
    },
    "papermill": {
     "duration": 0.082997,
     "end_time": "2024-03-25T20:40:38.461982",
     "exception": false,
     "start_time": "2024-03-25T20:40:38.378985",
     "status": "completed"
    },
    "tags": []
   },
   "outputs": [
    {
     "data": {
      "text/html": [
       "<div>\n",
       "<style scoped>\n",
       "    .dataframe tbody tr th:only-of-type {\n",
       "        vertical-align: middle;\n",
       "    }\n",
       "\n",
       "    .dataframe tbody tr th {\n",
       "        vertical-align: top;\n",
       "    }\n",
       "\n",
       "    .dataframe thead th {\n",
       "        text-align: right;\n",
       "    }\n",
       "</style>\n",
       "<table border=\"1\" class=\"dataframe\">\n",
       "  <thead>\n",
       "    <tr style=\"text-align: right;\">\n",
       "      <th></th>\n",
       "      <th>Accuracy</th>\n",
       "      <th>Precision</th>\n",
       "      <th>Recall</th>\n",
       "      <th>F1 Score</th>\n",
       "      <th>ROC AUC</th>\n",
       "      <th>Elapsed Total Time (s)</th>\n",
       "    </tr>\n",
       "    <tr>\n",
       "      <th>Model</th>\n",
       "      <th></th>\n",
       "      <th></th>\n",
       "      <th></th>\n",
       "      <th></th>\n",
       "      <th></th>\n",
       "      <th></th>\n",
       "    </tr>\n",
       "  </thead>\n",
       "  <tbody>\n",
       "    <tr>\n",
       "      <th>LR</th>\n",
       "      <td>0.867831</td>\n",
       "      <td>0.894255</td>\n",
       "      <td>0.833254</td>\n",
       "      <td>0.862678</td>\n",
       "      <td>0.867709</td>\n",
       "      <td>31.252451</td>\n",
       "    </tr>\n",
       "    <tr>\n",
       "      <th>RF</th>\n",
       "      <td>0.975926</td>\n",
       "      <td>0.975841</td>\n",
       "      <td>0.975841</td>\n",
       "      <td>0.975841</td>\n",
       "      <td>0.975926</td>\n",
       "      <td>141.517251</td>\n",
       "    </tr>\n",
       "    <tr>\n",
       "      <th>SVC</th>\n",
       "      <td>0.882700</td>\n",
       "      <td>0.929712</td>\n",
       "      <td>0.827096</td>\n",
       "      <td>0.875407</td>\n",
       "      <td>0.882504</td>\n",
       "      <td>2830.249777</td>\n",
       "    </tr>\n",
       "    <tr>\n",
       "      <th>EN</th>\n",
       "      <td>0.862639</td>\n",
       "      <td>0.917531</td>\n",
       "      <td>0.795831</td>\n",
       "      <td>0.852359</td>\n",
       "      <td>0.862403</td>\n",
       "      <td>462.220667</td>\n",
       "    </tr>\n",
       "    <tr>\n",
       "      <th>ADA</th>\n",
       "      <td>0.946896</td>\n",
       "      <td>0.949905</td>\n",
       "      <td>0.943155</td>\n",
       "      <td>0.946518</td>\n",
       "      <td>0.946883</td>\n",
       "      <td>63.577770</td>\n",
       "    </tr>\n",
       "    <tr>\n",
       "      <th>GB</th>\n",
       "      <td>0.980883</td>\n",
       "      <td>0.981043</td>\n",
       "      <td>0.980578</td>\n",
       "      <td>0.980810</td>\n",
       "      <td>0.980882</td>\n",
       "      <td>214.704983</td>\n",
       "    </tr>\n",
       "    <tr>\n",
       "      <th>XGB</th>\n",
       "      <td>0.980647</td>\n",
       "      <td>0.981490</td>\n",
       "      <td>0.979631</td>\n",
       "      <td>0.980560</td>\n",
       "      <td>0.980643</td>\n",
       "      <td>84.927321</td>\n",
       "    </tr>\n",
       "  </tbody>\n",
       "</table>\n",
       "</div>"
      ],
      "text/plain": [
       "       Accuracy  Precision    Recall  F1 Score   ROC AUC  \\\n",
       "Model                                                      \n",
       "LR     0.867831   0.894255  0.833254  0.862678  0.867709   \n",
       "RF     0.975926   0.975841  0.975841  0.975841  0.975926   \n",
       "SVC    0.882700   0.929712  0.827096  0.875407  0.882504   \n",
       "EN     0.862639   0.917531  0.795831  0.852359  0.862403   \n",
       "ADA    0.946896   0.949905  0.943155  0.946518  0.946883   \n",
       "GB     0.980883   0.981043  0.980578  0.980810  0.980882   \n",
       "XGB    0.980647   0.981490  0.979631  0.980560  0.980643   \n",
       "\n",
       "       Elapsed Total Time (s)  \n",
       "Model                          \n",
       "LR                  31.252451  \n",
       "RF                 141.517251  \n",
       "SVC               2830.249777  \n",
       "EN                 462.220667  \n",
       "ADA                 63.577770  \n",
       "GB                 214.704983  \n",
       "XGB                 84.927321  "
      ]
     },
     "execution_count": 28,
     "metadata": {},
     "output_type": "execute_result"
    }
   ],
   "source": [
    "# Create a list of dictionaries containing the test scores and elapsed total time for each model\n",
    "original_scores = []\n",
    "for model_name, result in zip(models, results):\n",
    "    original_scores.append({\n",
    "        'Model': model_name,\n",
    "        'Accuracy': result['test_metrics']['accuracy'],\n",
    "        'Precision': result['test_metrics']['precision'],\n",
    "        'Recall': result['test_metrics']['recall'],\n",
    "        'F1 Score': result['test_metrics']['f1'],\n",
    "        'ROC AUC': result['test_metrics']['roc_auc'],\n",
    "        'Elapsed Total Time (s)': result['elapsed_total']\n",
    "    })\n",
    "\n",
    "# Create a DataFrame from the list of dictionaries\n",
    "scores_df = pd.DataFrame(original_scores)\n",
    "\n",
    "# Set the 'Model' column as the index\n",
    "scores_df.set_index('Model', inplace=True)\n",
    "\n",
    "# Find the maximum value for each train score\n",
    "max_accuracy = scores_df['Accuracy'].max()\n",
    "max_recall = scores_df['Recall'].max()\n",
    "max_precision = scores_df['Precision'].max()\n",
    "max_f1 = scores_df['F1 Score'].max()\n",
    "max_roc_auc = scores_df['ROC AUC'].max()\n",
    "\n",
    "# Find the minimum value for elapsed total time\n",
    "min_time = scores_df['Elapsed Total Time (s)'].min()\n",
    "max_time = scores_df['Elapsed Total Time (s)'].max()\n",
    "\n",
    "scores_df"
   ]
  },
  {
   "cell_type": "code",
   "execution_count": 29,
   "id": "c1f18fe6",
   "metadata": {
    "execution": {
     "iopub.execute_input": "2024-03-25T20:40:38.557956Z",
     "iopub.status.busy": "2024-03-25T20:40:38.557418Z",
     "iopub.status.idle": "2024-03-25T20:40:38.662693Z",
     "shell.execute_reply": "2024-03-25T20:40:38.660961Z"
    },
    "papermill": {
     "duration": 0.15764,
     "end_time": "2024-03-25T20:40:38.665786",
     "exception": false,
     "start_time": "2024-03-25T20:40:38.508146",
     "status": "completed"
    },
    "tags": []
   },
   "outputs": [
    {
     "data": {
      "text/html": [
       "<style type=\"text/css\">\n",
       "#T_132fd_row0_col5 {\n",
       "  background-color: #ADD8E6;\n",
       "}\n",
       "#T_132fd_row2_col5 {\n",
       "  background-color: #FFD699;\n",
       "}\n",
       "#T_132fd_row5_col0, #T_132fd_row5_col2, #T_132fd_row5_col3, #T_132fd_row5_col4, #T_132fd_row6_col1 {\n",
       "  background-color: #B0E57C;\n",
       "}\n",
       "</style>\n",
       "<table id=\"T_132fd_\">\n",
       "  <thead>\n",
       "    <tr>\n",
       "      <th class=\"blank level0\" >&nbsp;</th>\n",
       "      <th class=\"col_heading level0 col0\" >Accuracy</th>\n",
       "      <th class=\"col_heading level0 col1\" >Precision</th>\n",
       "      <th class=\"col_heading level0 col2\" >Recall</th>\n",
       "      <th class=\"col_heading level0 col3\" >F1 Score</th>\n",
       "      <th class=\"col_heading level0 col4\" >ROC AUC</th>\n",
       "      <th class=\"col_heading level0 col5\" >Elapsed Total Time (s)</th>\n",
       "    </tr>\n",
       "    <tr>\n",
       "      <th class=\"index_name level0\" >Model</th>\n",
       "      <th class=\"blank col0\" >&nbsp;</th>\n",
       "      <th class=\"blank col1\" >&nbsp;</th>\n",
       "      <th class=\"blank col2\" >&nbsp;</th>\n",
       "      <th class=\"blank col3\" >&nbsp;</th>\n",
       "      <th class=\"blank col4\" >&nbsp;</th>\n",
       "      <th class=\"blank col5\" >&nbsp;</th>\n",
       "    </tr>\n",
       "  </thead>\n",
       "  <tbody>\n",
       "    <tr>\n",
       "      <th id=\"T_132fd_level0_row0\" class=\"row_heading level0 row0\" >LR</th>\n",
       "      <td id=\"T_132fd_row0_col0\" class=\"data row0 col0\" >0.867831</td>\n",
       "      <td id=\"T_132fd_row0_col1\" class=\"data row0 col1\" >0.894255</td>\n",
       "      <td id=\"T_132fd_row0_col2\" class=\"data row0 col2\" >0.833254</td>\n",
       "      <td id=\"T_132fd_row0_col3\" class=\"data row0 col3\" >0.862678</td>\n",
       "      <td id=\"T_132fd_row0_col4\" class=\"data row0 col4\" >0.867709</td>\n",
       "      <td id=\"T_132fd_row0_col5\" class=\"data row0 col5\" >31.252451</td>\n",
       "    </tr>\n",
       "    <tr>\n",
       "      <th id=\"T_132fd_level0_row1\" class=\"row_heading level0 row1\" >RF</th>\n",
       "      <td id=\"T_132fd_row1_col0\" class=\"data row1 col0\" >0.975926</td>\n",
       "      <td id=\"T_132fd_row1_col1\" class=\"data row1 col1\" >0.975841</td>\n",
       "      <td id=\"T_132fd_row1_col2\" class=\"data row1 col2\" >0.975841</td>\n",
       "      <td id=\"T_132fd_row1_col3\" class=\"data row1 col3\" >0.975841</td>\n",
       "      <td id=\"T_132fd_row1_col4\" class=\"data row1 col4\" >0.975926</td>\n",
       "      <td id=\"T_132fd_row1_col5\" class=\"data row1 col5\" >141.517251</td>\n",
       "    </tr>\n",
       "    <tr>\n",
       "      <th id=\"T_132fd_level0_row2\" class=\"row_heading level0 row2\" >SVC</th>\n",
       "      <td id=\"T_132fd_row2_col0\" class=\"data row2 col0\" >0.882700</td>\n",
       "      <td id=\"T_132fd_row2_col1\" class=\"data row2 col1\" >0.929712</td>\n",
       "      <td id=\"T_132fd_row2_col2\" class=\"data row2 col2\" >0.827096</td>\n",
       "      <td id=\"T_132fd_row2_col3\" class=\"data row2 col3\" >0.875407</td>\n",
       "      <td id=\"T_132fd_row2_col4\" class=\"data row2 col4\" >0.882504</td>\n",
       "      <td id=\"T_132fd_row2_col5\" class=\"data row2 col5\" >2830.249777</td>\n",
       "    </tr>\n",
       "    <tr>\n",
       "      <th id=\"T_132fd_level0_row3\" class=\"row_heading level0 row3\" >EN</th>\n",
       "      <td id=\"T_132fd_row3_col0\" class=\"data row3 col0\" >0.862639</td>\n",
       "      <td id=\"T_132fd_row3_col1\" class=\"data row3 col1\" >0.917531</td>\n",
       "      <td id=\"T_132fd_row3_col2\" class=\"data row3 col2\" >0.795831</td>\n",
       "      <td id=\"T_132fd_row3_col3\" class=\"data row3 col3\" >0.852359</td>\n",
       "      <td id=\"T_132fd_row3_col4\" class=\"data row3 col4\" >0.862403</td>\n",
       "      <td id=\"T_132fd_row3_col5\" class=\"data row3 col5\" >462.220667</td>\n",
       "    </tr>\n",
       "    <tr>\n",
       "      <th id=\"T_132fd_level0_row4\" class=\"row_heading level0 row4\" >ADA</th>\n",
       "      <td id=\"T_132fd_row4_col0\" class=\"data row4 col0\" >0.946896</td>\n",
       "      <td id=\"T_132fd_row4_col1\" class=\"data row4 col1\" >0.949905</td>\n",
       "      <td id=\"T_132fd_row4_col2\" class=\"data row4 col2\" >0.943155</td>\n",
       "      <td id=\"T_132fd_row4_col3\" class=\"data row4 col3\" >0.946518</td>\n",
       "      <td id=\"T_132fd_row4_col4\" class=\"data row4 col4\" >0.946883</td>\n",
       "      <td id=\"T_132fd_row4_col5\" class=\"data row4 col5\" >63.577770</td>\n",
       "    </tr>\n",
       "    <tr>\n",
       "      <th id=\"T_132fd_level0_row5\" class=\"row_heading level0 row5\" >GB</th>\n",
       "      <td id=\"T_132fd_row5_col0\" class=\"data row5 col0\" >0.980883</td>\n",
       "      <td id=\"T_132fd_row5_col1\" class=\"data row5 col1\" >0.981043</td>\n",
       "      <td id=\"T_132fd_row5_col2\" class=\"data row5 col2\" >0.980578</td>\n",
       "      <td id=\"T_132fd_row5_col3\" class=\"data row5 col3\" >0.980810</td>\n",
       "      <td id=\"T_132fd_row5_col4\" class=\"data row5 col4\" >0.980882</td>\n",
       "      <td id=\"T_132fd_row5_col5\" class=\"data row5 col5\" >214.704983</td>\n",
       "    </tr>\n",
       "    <tr>\n",
       "      <th id=\"T_132fd_level0_row6\" class=\"row_heading level0 row6\" >XGB</th>\n",
       "      <td id=\"T_132fd_row6_col0\" class=\"data row6 col0\" >0.980647</td>\n",
       "      <td id=\"T_132fd_row6_col1\" class=\"data row6 col1\" >0.981490</td>\n",
       "      <td id=\"T_132fd_row6_col2\" class=\"data row6 col2\" >0.979631</td>\n",
       "      <td id=\"T_132fd_row6_col3\" class=\"data row6 col3\" >0.980560</td>\n",
       "      <td id=\"T_132fd_row6_col4\" class=\"data row6 col4\" >0.980643</td>\n",
       "      <td id=\"T_132fd_row6_col5\" class=\"data row6 col5\" >84.927321</td>\n",
       "    </tr>\n",
       "  </tbody>\n",
       "</table>\n"
      ],
      "text/plain": [
       "<pandas.io.formats.style.Styler at 0x7f94bf96c490>"
      ]
     },
     "execution_count": 29,
     "metadata": {},
     "output_type": "execute_result"
    }
   ],
   "source": [
    "# Apply the styling function to highlight the maximum value in each column\n",
    "styled_df = scores_df.style.apply(highlight_max_min)\n",
    "\n",
    "# Display the styled DataFrame\n",
    "styled_df"
   ]
  },
  {
   "cell_type": "code",
   "execution_count": 30,
   "id": "ea98819a",
   "metadata": {
    "execution": {
     "iopub.execute_input": "2024-03-25T20:40:38.758129Z",
     "iopub.status.busy": "2024-03-25T20:40:38.757617Z",
     "iopub.status.idle": "2024-03-25T21:07:02.513742Z",
     "shell.execute_reply": "2024-03-25T21:07:02.512040Z"
    },
    "papermill": {
     "duration": 1583.858722,
     "end_time": "2024-03-25T21:07:02.569429",
     "exception": false,
     "start_time": "2024-03-25T20:40:38.710707",
     "status": "completed"
    },
    "tags": []
   },
   "outputs": [
    {
     "name": "stdout",
     "output_type": "stream",
     "text": [
      "Fitting 3 folds for each of 23 candidates, totalling 69 fits\n",
      "[CV] END ................................pca__n_components=1; total time=   3.4s\n",
      "[CV] END ................................pca__n_components=1; total time=   3.3s\n",
      "[CV] END ................................pca__n_components=1; total time=   3.2s\n",
      "[CV] END ................................pca__n_components=2; total time=   5.1s\n",
      "[CV] END ................................pca__n_components=2; total time=   5.0s\n",
      "[CV] END ................................pca__n_components=2; total time=   5.1s\n",
      "[CV] END ................................pca__n_components=3; total time=   6.9s\n",
      "[CV] END ................................pca__n_components=3; total time=   7.0s\n",
      "[CV] END ................................pca__n_components=3; total time=   6.9s\n",
      "[CV] END ................................pca__n_components=4; total time=   8.7s\n",
      "[CV] END ................................pca__n_components=4; total time=   8.8s\n",
      "[CV] END ................................pca__n_components=4; total time=   8.8s\n",
      "[CV] END ................................pca__n_components=5; total time=  10.5s\n",
      "[CV] END ................................pca__n_components=5; total time=  10.6s\n",
      "[CV] END ................................pca__n_components=5; total time=  10.6s\n",
      "[CV] END ................................pca__n_components=6; total time=  12.3s\n",
      "[CV] END ................................pca__n_components=6; total time=  12.6s\n",
      "[CV] END ................................pca__n_components=6; total time=  12.3s\n",
      "[CV] END ................................pca__n_components=7; total time=  14.1s\n",
      "[CV] END ................................pca__n_components=7; total time=  14.0s\n",
      "[CV] END ................................pca__n_components=7; total time=  14.0s\n",
      "[CV] END ................................pca__n_components=8; total time=  15.9s\n",
      "[CV] END ................................pca__n_components=8; total time=  15.6s\n",
      "[CV] END ................................pca__n_components=8; total time=  15.7s\n",
      "[CV] END ................................pca__n_components=9; total time=  17.4s\n",
      "[CV] END ................C=0.01778279410038923, l1_ratio=0.4; total time= 1.3min\n",
      "[CV] END ................C=0.01778279410038923, l1_ratio=0.5; total time= 1.3min\n",
      "[CV] END ..............C=0.0031622776601683794, l1_ratio=0.1; total time= 1.2min\n",
      "[CV] END ................C=0.01778279410038923, l1_ratio=0.2; total time= 1.3min\n",
      "[CV] END ..................C=17.78279410038923, l1_ratio=0.8; total time= 1.2min\n",
      "[CV] END ...learning_rate=0.1, max_depth=5, n_estimators=100; total time=  17.3s\n",
      "[CV] END ...learning_rate=0.1, max_depth=5, n_estimators=100; total time=  17.8s\n",
      "[CV] END ...learning_rate=0.1, max_depth=5, n_estimators=100; total time=  18.0s\n",
      "[CV] END ....learning_rate=1.0, max_depth=5, n_estimators=50; total time=   9.4s\n",
      "[CV] END ...learning_rate=0.01, max_depth=3, n_estimators=50; total time=   5.3s\n",
      "[CV] END ...learning_rate=0.1, max_depth=7, n_estimators=100; total time=  23.6s\n",
      "[CV] END ...learning_rate=0.1, max_depth=7, n_estimators=200; total time=  48.4s\n",
      "[CV] END ....learning_rate=1.0, max_depth=7, n_estimators=50; total time=  10.6s\n",
      "[CV] END ................learning_rate=0.01, n_estimators=50; total time=   2.5s\n",
      "[CV] END ...............learning_rate=0.01, n_estimators=200; total time=   9.9s\n",
      "[CV] END .................learning_rate=0.1, n_estimators=50; total time=   2.5s\n",
      "[CV] END ................learning_rate=0.1, n_estimators=100; total time=   6.6s\n",
      "[CV] END .................learning_rate=1.0, n_estimators=50; total time=   2.4s\n",
      "[CV] END .................learning_rate=1.0, n_estimators=50; total time=   2.4s\n",
      "[CV] END .................learning_rate=1.0, n_estimators=50; total time=   2.5s\n",
      "[CV] END ................learning_rate=1.0, n_estimators=100; total time=   4.9s\n",
      "[CV] END ..learning_rate=0.01, max_depth=7, n_estimators=200; total time=  22.4s\n",
      "[CV] END ....learning_rate=1.0, max_depth=5, n_estimators=50; total time=   3.2s\n",
      "[CV] END ...learning_rate=0.01, max_depth=3, n_estimators=50; total time=   2.4s\n",
      "[CV] END ...learning_rate=0.1, max_depth=3, n_estimators=200; total time=   9.6s\n",
      "[CV] END ...learning_rate=0.1, max_depth=7, n_estimators=200; total time=  18.0s\n",
      "[CV] END ....learning_rate=1.0, max_depth=7, n_estimators=50; total time=   3.8s\n",
      "[CV] END ................................pca__n_components=9; total time=  17.4s\n",
      "[CV] END ................C=0.01778279410038923, l1_ratio=0.4; total time= 1.3min\n",
      "[CV] END ................C=0.01778279410038923, l1_ratio=0.5; total time= 1.3min\n",
      "[CV] END ..............C=0.0031622776601683794, l1_ratio=0.1; total time= 1.1min\n",
      "[CV] END ..............C=0.0005623413251903491, l1_ratio=0.2; total time=  33.1s\n",
      "[CV] END ..............C=0.0005623413251903491, l1_ratio=0.2; total time=  42.0s\n",
      "[CV] END ..................C=17.78279410038923, l1_ratio=0.8; total time= 1.3min\n",
      "[CV] END ..learning_rate=0.01, max_depth=7, n_estimators=200; total time=  48.4s\n",
      "[CV] END ....learning_rate=0.1, max_depth=3, n_estimators=50; total time=   5.3s\n",
      "[CV] END ....learning_rate=1.0, max_depth=5, n_estimators=50; total time=   9.0s\n",
      "[CV] END ...learning_rate=0.1, max_depth=3, n_estimators=200; total time=  21.4s\n",
      "[CV] END ...learning_rate=0.1, max_depth=7, n_estimators=100; total time=  24.4s\n",
      "[CV] END ...learning_rate=0.1, max_depth=7, n_estimators=200; total time=  45.4s\n",
      "[CV] END ...............learning_rate=0.01, n_estimators=100; total time=   5.0s\n",
      "[CV] END ...............learning_rate=0.01, n_estimators=200; total time=   9.8s\n",
      "[CV] END ................learning_rate=0.1, n_estimators=100; total time=   6.4s\n",
      "[CV] END ................learning_rate=0.1, n_estimators=200; total time=   9.8s\n",
      "[CV] END ................learning_rate=1.0, n_estimators=200; total time=   8.6s\n",
      "[CV] END ..learning_rate=0.01, max_depth=7, n_estimators=200; total time=  22.2s\n",
      "[CV] END ....learning_rate=0.1, max_depth=3, n_estimators=50; total time=   2.3s\n",
      "[CV] END ...learning_rate=0.01, max_depth=3, n_estimators=50; total time=   2.3s\n",
      "[CV] END ...learning_rate=0.01, max_depth=3, n_estimators=50; total time=   2.4s\n",
      "[CV] END ...learning_rate=0.1, max_depth=7, n_estimators=100; total time=   9.9s\n",
      "[CV] END ...learning_rate=0.1, max_depth=7, n_estimators=200; total time=  18.2s\n",
      "[CV] END ....learning_rate=1.0, max_depth=7, n_estimators=50; total time=   3.8s\n",
      "[CV] END ...............................C=0.0001, penalty=l1; total time=   0.0s\n",
      "[CV] END ...............................C=0.0001, penalty=l2; total time=   0.4s\n",
      "[CV] END ................C=0.0031622776601683794, penalty=l2; total time=   1.7s\n",
      "[CV] END ................C=0.0005623413251903491, penalty=l2; total time=   0.9s\n",
      "[CV] END ................................C=100.0, penalty=l1; total time=   0.0s\n",
      "[CV] END ................................C=100.0, penalty=l1; total time=   0.0s\n",
      "[CV] END ................................C=100.0, penalty=l1; total time=   0.0s\n",
      "[CV] END ....................C=17.78279410038923, penalty=l2; total time=   4.3s\n",
      "[CV] END ...................C=0.5623413251903491, penalty=l2; total time=   3.2s\n",
      "[CV] END max_features=log2, min_samples_leaf=5, n_estimators=1000; total time=  47.5s\n",
      "[CV] END max_features=log2, min_samples_leaf=5, n_estimators=50; total time=   2.4s\n",
      "[CV] END max_features=log2, min_samples_leaf=1, n_estimators=250; total time=  12.7s\n",
      "[CV] END max_features=log2, min_samples_leaf=1, n_estimators=250; total time=  12.6s\n",
      "[CV] END max_features=sqrt, min_samples_leaf=5, n_estimators=1000; total time=  42.0s\n",
      "[CV] END ...............................C=0.0001, kernel=rbf; total time=  27.8s\n",
      "[CV] END ...............................C=0.1, kernel=linear; total time= 4.1min\n",
      "[CV] END .............................C=100.0, kernel=linear; total time=42.3min\n",
      "[CV] END ................C=0.01778279410038923, l1_ratio=0.4; total time= 1.3min\n",
      "[CV] END ..............C=0.0031622776601683794, l1_ratio=0.5; total time= 1.1min\n",
      "[CV] END ..............C=0.0031622776601683794, l1_ratio=0.1; total time= 1.0min\n",
      "[CV] END ................C=0.01778279410038923, l1_ratio=0.2; total time= 1.3min\n",
      "[CV] END ..............C=0.0005623413251903491, l1_ratio=0.2; total time=  44.0s\n",
      "[CV] END .............................C=0.0001, l1_ratio=0.5; total time=   0.5s\n",
      "[CV] END .............................C=0.0001, l1_ratio=0.5; total time=   0.8s\n",
      "[CV] END .............................C=0.0001, l1_ratio=0.5; total time=   0.8s\n",
      "[CV] END ..............C=0.0005623413251903491, l1_ratio=0.4; total time=   1.8s\n",
      "[CV] END ..............C=0.0005623413251903491, l1_ratio=0.4; total time=   2.9s\n",
      "[CV] END ..............C=0.0005623413251903491, l1_ratio=0.4; total time=   4.2s\n",
      "[CV] END ..learning_rate=0.01, max_depth=7, n_estimators=200; total time=  48.6s\n",
      "[CV] END ....learning_rate=0.1, max_depth=3, n_estimators=50; total time=   5.3s\n",
      "[CV] END ....learning_rate=1.0, max_depth=5, n_estimators=50; total time=   9.3s\n",
      "[CV] END ...learning_rate=0.1, max_depth=3, n_estimators=200; total time=  21.3s\n",
      "[CV] END ...learning_rate=0.1, max_depth=7, n_estimators=100; total time=  24.4s\n",
      "[CV] END ....learning_rate=0.1, max_depth=5, n_estimators=50; total time=   8.5s\n",
      "[CV] END ....learning_rate=0.1, max_depth=5, n_estimators=50; total time=   9.3s\n",
      "[CV] END ....learning_rate=0.1, max_depth=5, n_estimators=50; total time=   8.7s\n",
      "[CV] END ....learning_rate=1.0, max_depth=7, n_estimators=50; total time=  12.0s\n",
      "[CV] END ................learning_rate=0.01, n_estimators=50; total time=   2.5s\n",
      "[CV] END ...............learning_rate=0.01, n_estimators=100; total time=   5.0s\n",
      "[CV] END .................learning_rate=0.1, n_estimators=50; total time=   2.5s\n",
      "[CV] END .................learning_rate=0.1, n_estimators=50; total time=   2.5s\n",
      "[CV] END ................learning_rate=0.1, n_estimators=100; total time=   6.0s\n",
      "[CV] END ................learning_rate=0.1, n_estimators=200; total time=  10.0s\n",
      "[CV] END ................learning_rate=1.0, n_estimators=100; total time=   4.8s\n",
      "[CV] END ................learning_rate=1.0, n_estimators=200; total time=   8.8s\n",
      "[CV] END ...learning_rate=0.1, max_depth=5, n_estimators=100; total time=   7.5s\n",
      "[CV] END ...learning_rate=0.1, max_depth=5, n_estimators=100; total time=   7.3s\n",
      "[CV] END ...learning_rate=0.1, max_depth=5, n_estimators=100; total time=   7.2s\n",
      "[CV] END ....learning_rate=0.1, max_depth=3, n_estimators=50; total time=   2.3s\n",
      "[CV] END ....learning_rate=1.0, max_depth=5, n_estimators=50; total time=   3.3s\n",
      "[CV] END ...learning_rate=0.1, max_depth=3, n_estimators=200; total time=   9.5s\n",
      "[CV] END ...learning_rate=0.1, max_depth=7, n_estimators=100; total time=   9.8s\n",
      "[CV] END ....learning_rate=0.1, max_depth=5, n_estimators=50; total time=   3.8s\n",
      "[CV] END ....learning_rate=0.1, max_depth=5, n_estimators=50; total time=   3.7s\n",
      "[CV] END ....learning_rate=0.1, max_depth=5, n_estimators=50; total time=   3.7s\n",
      "[CV] END ....learning_rate=1.0, max_depth=7, n_estimators=50; total time=   3.5s\n",
      "[CV] END .............................C=0.0001, l1_ratio=0.1; total time=   1.7s\n",
      "[CV] END .............................C=0.0001, l1_ratio=0.1; total time=   2.6s\n",
      "[CV] END .............................C=0.0001, l1_ratio=0.1; total time=   3.4s\n",
      "[CV] END ..............C=0.0031622776601683794, l1_ratio=0.5; total time= 1.0min\n",
      "[CV] END ..............C=0.0031622776601683794, l1_ratio=0.5; total time= 1.1min\n",
      "[CV] END ................C=0.01778279410038923, l1_ratio=0.5; total time= 1.3min\n",
      "[CV] END ................C=0.01778279410038923, l1_ratio=0.2; total time= 1.3min\n",
      "[CV] END ..................C=17.78279410038923, l1_ratio=0.8; total time= 1.2min\n",
      "[CV] END ..learning_rate=0.01, max_depth=7, n_estimators=200; total time=  48.7s\n",
      "[CV] END ....learning_rate=0.1, max_depth=3, n_estimators=50; total time=   5.3s\n",
      "[CV] END ...learning_rate=0.01, max_depth=3, n_estimators=50; total time=   5.4s\n",
      "[CV] END ...learning_rate=0.01, max_depth=3, n_estimators=50; total time=   5.5s\n",
      "[CV] END ...learning_rate=0.1, max_depth=3, n_estimators=200; total time=  21.3s\n",
      "[CV] END ...learning_rate=0.1, max_depth=7, n_estimators=200; total time=  48.8s\n",
      "[CV] END ....learning_rate=1.0, max_depth=7, n_estimators=50; total time=  12.1s\n",
      "[CV] END ................learning_rate=0.01, n_estimators=50; total time=   2.4s\n",
      "[CV] END ...............learning_rate=0.01, n_estimators=100; total time=   5.0s\n",
      "[CV] END ...............learning_rate=0.01, n_estimators=200; total time=  11.3s\n",
      "[CV] END ................learning_rate=0.1, n_estimators=200; total time=  10.3s\n",
      "[CV] END ................learning_rate=1.0, n_estimators=100; total time=   4.9s\n",
      "[CV] END ................learning_rate=1.0, n_estimators=200; total time=   8.3s\n",
      "[CV] END ..learning_rate=0.01, max_depth=7, n_estimators=200; total time=  21.8s\n",
      "[CV] END ....learning_rate=0.1, max_depth=3, n_estimators=50; total time=   2.3s\n",
      "[CV] END ....learning_rate=1.0, max_depth=5, n_estimators=50; total time=   3.3s\n",
      "[CV] END ...learning_rate=0.1, max_depth=3, n_estimators=200; total time=   9.6s\n",
      "[CV] END ...learning_rate=0.1, max_depth=7, n_estimators=100; total time=   9.9s\n",
      "[CV] END ...learning_rate=0.1, max_depth=7, n_estimators=200; total time=  16.2s\n",
      "[CV] END ................................pca__n_components=9; total time=  17.4s\n",
      "[CV] END ...............................pca__n_components=10; total time=  19.2s\n",
      "[CV] END ...............................pca__n_components=10; total time=  19.2s\n",
      "[CV] END ...............................pca__n_components=10; total time=  19.1s\n",
      "[CV] END ...............................pca__n_components=11; total time=  20.9s\n",
      "[CV] END ...............................pca__n_components=11; total time=  20.8s\n",
      "[CV] END ...............................pca__n_components=11; total time=  20.8s\n",
      "[CV] END ...............................pca__n_components=12; total time=  22.6s\n",
      "[CV] END ...............................pca__n_components=12; total time=  22.6s\n",
      "[CV] END ...............................pca__n_components=12; total time=  22.5s\n",
      "[CV] END ...............................pca__n_components=13; total time=  24.3s\n",
      "[CV] END ...............................pca__n_components=13; total time=  24.2s\n",
      "[CV] END ...............................pca__n_components=13; total time=  24.4s\n",
      "[CV] END ...............................pca__n_components=14; total time=  26.4s\n",
      "[CV] END ...............................pca__n_components=14; total time=  27.1s\n",
      "[CV] END ...............................pca__n_components=14; total time=  26.4s\n",
      "[CV] END ...............................pca__n_components=15; total time=  27.9s\n",
      "[CV] END ...............................pca__n_components=15; total time=  28.1s\n",
      "[CV] END ...............................pca__n_components=15; total time=  27.9s\n",
      "[CV] END ...............................pca__n_components=16; total time=  29.7s\n",
      "[CV] END ...............................pca__n_components=16; total time=  29.6s\n",
      "[CV] END ...............................pca__n_components=16; total time=  29.6s\n",
      "[CV] END ...............................pca__n_components=17; total time=  32.2s\n",
      "[CV] END ...............................pca__n_components=17; total time=  33.2s\n",
      "[CV] END ...............................pca__n_components=17; total time=  33.2s\n",
      "[CV] END ...............................pca__n_components=18; total time=  33.7s\n",
      "[CV] END ...............................pca__n_components=18; total time=  33.6s\n",
      "[CV] END ...............................pca__n_components=18; total time=  33.6s\n",
      "[CV] END ...............................pca__n_components=19; total time=  35.4s\n",
      "[CV] END ...............................pca__n_components=19; total time=  35.4s\n",
      "[CV] END ...............................pca__n_components=19; total time=  35.4s\n",
      "[CV] END ...............................pca__n_components=20; total time=  35.2s\n",
      "[CV] END ...............................pca__n_components=20; total time=  34.8s\n",
      "[CV] END ...............................pca__n_components=20; total time=  34.8s\n",
      "[CV] END ...............................pca__n_components=21; total time=  35.4s\n",
      "[CV] END ...............................pca__n_components=21; total time=  35.3s\n",
      "[CV] END ...............................pca__n_components=21; total time=  35.4s\n",
      "[CV] END ...............................pca__n_components=22; total time=  36.2s\n",
      "[CV] END ...............................pca__n_components=22; total time=  35.8s\n",
      "[CV] END ...............................pca__n_components=22; total time=  35.7s\n",
      "[CV] END ...............................pca__n_components=23; total time=  35.8s\n",
      "[CV] END ...............................pca__n_components=23; total time=  36.0s\n",
      "[CV] END ...............................pca__n_components=23; total time=  36.1s\n",
      "Best Performing PCA (GradientBoost): 20\n",
      "Best Cross-validation Recall (GradientBoost): 0.9691040786978729\n"
     ]
    },
    {
     "data": {
      "image/png": "[encoded data removed]",
      "text/plain": [
       "<Figure size 720x432 with 1 Axes>"
      ]
     },
     "metadata": {
      "needs_background": "light"
     },
     "output_type": "display_data"
    }
   ],
   "source": [
    "from sklearn.model_selection import GridSearchCV\n",
    "from sklearn.metrics import make_scorer, recall_score\n",
    "\n",
    "# Define parameter grid for PCA \n",
    "param_grid = {\n",
    "    'pca__n_components': range(1, min(X_train.shape[1], 200)),\n",
    "}\n",
    "\n",
    "# Define a custom scorer for recall\n",
    "scorer = make_scorer(recall_score)\n",
    "\n",
    "# Define the pipeline with PCA followed by GradientBoostingClassifier\n",
    "pipeline = Pipeline([\n",
    "    ('pca', PCA()),\n",
    "    ('gb', GradientBoostingClassifier(**best_params_gb))\n",
    "])\n",
    "\n",
    "# Perform grid search with cross-validation\n",
    "grid_search = GridSearchCV(pipeline, param_grid=param_grid, cv=3, scoring=scorer, verbose=2)\n",
    "grid_search.fit(X_train, y_train)\n",
    "\n",
    "# Retrieve the best performing PCA and its corresponding score\n",
    "best_pca = grid_search.best_params_['pca__n_components']\n",
    "best_recall = grid_search.best_score_\n",
    "\n",
    "# Print the best performing PCA and its corresponding score\n",
    "print(\"Best Performing PCA (GradientBoost):\", best_pca)\n",
    "print(\"Best Cross-validation Recall (GradientBoost):\", best_recall)\n",
    "\n",
    "# Plot results\n",
    "plt.figure(figsize=(10, 6))\n",
    "plt.plot(param_grid['pca__n_components'], grid_search.cv_results_['mean_test_score'], '-o')\n",
    "plt.xlabel('Number of Principal Components')\n",
    "plt.ylabel('Cross-validation Recall')\n",
    "plt.title('Cross-validation Recall vs. Number of Principal Components')\n",
    "plt.grid(True)\n",
    "plt.show()\n"
   ]
  },
  {
   "cell_type": "code",
   "execution_count": null,
   "id": "65b3a395",
   "metadata": {
    "papermill": {
     "duration": 0.059887,
     "end_time": "2024-03-25T21:07:25.206030",
     "exception": false,
     "start_time": "2024-03-25T21:07:25.146143",
     "status": "completed"
    },
    "tags": []
   },
   "outputs": [],
   "source": []
  }
 ],
 "metadata": {
  "kaggle": {
   "accelerator": "none",
   "dataSources": [
    {
     "datasetId": 1542181,
     "sourceId": 2543148,
     "sourceType": "datasetVersion"
    }
   ],
   "dockerImageVersionId": 30213,
   "isGpuEnabled": false,
   "isInternetEnabled": false,
   "language": "python",
   "sourceType": "notebook"
  },
  "kernelspec": {
   "display_name": "Python 3 (ipykernel)",
   "language": "python",
   "name": "python3"
  },
  "language_info": {
   "codemirror_mode": {
    "name": "ipython",
    "version": 3
   },
   "file_extension": ".py",
   "mimetype": "text/x-python",
   "name": "python",
   "nbconvert_exporter": "python",
   "pygments_lexer": "ipython3",
   "version": "3.8.10"
  },
  "papermill": {
   "default_parameters": {},
   "duration": 5661.59156,
   "end_time": "2024-03-25T21:07:27.915046",
   "environment_variables": {},
   "exception": null,
   "input_path": "__notebook__.ipynb",
   "output_path": "__notebook__.ipynb",
   "parameters": {},
   "start_time": "2024-03-25T19:33:06.323486",
   "version": "2.3.4"
  }
 },
 "nbformat": 4,
 "nbformat_minor": 5
}
